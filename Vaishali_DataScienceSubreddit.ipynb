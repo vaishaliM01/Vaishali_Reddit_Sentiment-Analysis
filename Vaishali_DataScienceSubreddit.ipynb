{
 "cells": [
  {
   "cell_type": "markdown",
   "id": "73fa2b84",
   "metadata": {},
   "source": [
    "# Week 7 Assignment"
   ]
  },
  {
   "cell_type": "markdown",
   "id": "f48ee1c5",
   "metadata": {},
   "source": [
    "This week we are collecting some data from Reddit and doing some basic EDA on it. You should:\n",
    "\n",
    "- create your Reddit account and API keys\n",
    "- collect data from a subreddit of your choice\n",
    "    - at a minimum, collect the posts from the subreddit; optionally collect comments on the posts\n",
    "- save the data to a SQLite3 database\n",
    "- perform some basic EDA on the data\n",
    "    - create at least 2 plots\n",
    "- write a short analysis at the end describing the process and results\n",
    "- turn in the Jupyter Notebook and PDF printout or export to the week 7 dropbox\n",
    "\n",
    "***Optional* advanced section**\n",
    "- Practice SQL queries and select a subsection of the posts you collected\n",
    "- Modify your code to collect data beyond the 1000 item limit\n",
    "- Collect comments from the posts for analysis next week and do some EDA on the comments (e.g. who is the top commenter, which commenters have the most up and down votes or most controversial posts, etc)\n",
    "- examine n-grams ([bigrams](https://stackoverflow.com/a/37651184/4549682), trigrams) or [collocations](https://www.geeksforgeeks.org/nlp-word-collocations/)\n",
    "\n",
    "Note: There is no solution file for this week."
   ]
  },
  {
   "cell_type": "markdown",
   "id": "061c4947",
   "metadata": {},
   "source": [
    "# Subreddit - datascience\n",
    "I have taken up datascience (going by the subject) subreddit for analysis today."
   ]
  },
  {
   "cell_type": "code",
   "execution_count": 1,
   "id": "83dcfd37",
   "metadata": {},
   "outputs": [],
   "source": [
    "import praw\n",
    "import pandas as pd\n",
    "\n",
    "import credentials"
   ]
  },
  {
   "cell_type": "code",
   "execution_count": 2,
   "id": "6ccc97f4",
   "metadata": {},
   "outputs": [],
   "source": [
    "reddit = praw.Reddit(client_id=credentials.client_id,\n",
    "                     client_secret=credentials.client_secret,\n",
    "                     user_agent=credentials.user_agent)"
   ]
  },
  {
   "cell_type": "code",
   "execution_count": 3,
   "id": "4213de6c",
   "metadata": {},
   "outputs": [],
   "source": [
    "# Taking 10 posts\n",
    "ds_subreddit = reddit.subreddit('datascience').hot(limit=10)"
   ]
  },
  {
   "cell_type": "code",
   "execution_count": 4,
   "id": "9ef46f7b",
   "metadata": {},
   "outputs": [
    {
     "data": {
      "text/plain": [
       "Subreddit(display_name='ds_subreddit')"
      ]
     },
     "execution_count": 4,
     "metadata": {},
     "output_type": "execute_result"
    }
   ],
   "source": [
    "reddit.subreddit('ds_subreddit')"
   ]
  },
  {
   "cell_type": "code",
   "execution_count": 5,
   "id": "f06f2488",
   "metadata": {},
   "outputs": [
    {
     "name": "stdout",
     "output_type": "stream",
     "text": [
      "Weekly Entering & Transitioning - Thread 02 Oct, 2023 - 09 Oct, 2023 7\n",
      "The most sought-after Data Science skills 193\n",
      "Is there any benefit for a Data Analyst to learn C#? 20\n",
      "What title do these roles and responsibilities fit into? 5\n",
      "Is it possible to have a non-Gaussian mixture and can it be easily decomposed? 2\n",
      "[QUESTIONS] Data Scientist Role Organization Questions 1\n",
      "What is a foundational model? 6\n",
      "Data Science not in demand. 154\n",
      "I got an internship as a business analyst is it that bad? 0\n",
      "Plotting pre-calculated embeddings onto tensorboard projector 1\n"
     ]
    }
   ],
   "source": [
    "# Traversing the 10 posts taken\n",
    "for post in ds_subreddit:\n",
    "    print(post.title, post.score)"
   ]
  },
  {
   "cell_type": "code",
   "execution_count": 6,
   "id": "25c0f5e5",
   "metadata": {},
   "outputs": [
    {
     "data": {
      "text/plain": [
       "1"
      ]
     },
     "execution_count": 6,
     "metadata": {},
     "output_type": "execute_result"
    }
   ],
   "source": [
    "post.score"
   ]
  },
  {
   "cell_type": "code",
   "execution_count": 7,
   "id": "ccb4e49f",
   "metadata": {},
   "outputs": [
    {
     "data": {
      "text/plain": [
       "'Plotting pre-calculated embeddings onto tensorboard projector'"
      ]
     },
     "execution_count": 7,
     "metadata": {},
     "output_type": "execute_result"
    }
   ],
   "source": [
    "post.title"
   ]
  },
  {
   "cell_type": "code",
   "execution_count": 8,
   "id": "0894055f",
   "metadata": {},
   "outputs": [
    {
     "data": {
      "text/plain": [
       "'/r/datascience/comments/171mmpq/plotting_precalculated_embeddings_onto/'"
      ]
     },
     "execution_count": 8,
     "metadata": {},
     "output_type": "execute_result"
    }
   ],
   "source": [
    "post.permalink"
   ]
  },
  {
   "cell_type": "code",
   "execution_count": 69,
   "id": "ff8c54b6",
   "metadata": {},
   "outputs": [],
   "source": [
    "reddit_data = {'title': [],\n",
    "              'link': [],\n",
    "              'author': [],\n",
    "              'n_comments': [],\n",
    "              'score': [],\n",
    "              'text': []}\n",
    "\n",
    "\n",
    "ds_subreddit = reddit.subreddit('datascience').hot(limit=None)\n",
    "\n",
    "for post in list(ds_subreddit):\n",
    "    reddit_data['title'].append(post.title)\n",
    "    reddit_data['link'].append(post.permalink)\n",
    "    if post.author is None:\n",
    "        reddit_data['author'].append('')\n",
    "    else:\n",
    "        reddit_data['author'].append(post.author.name)\n",
    "    reddit_data['n_comments'].append(post.num_comments)\n",
    "    reddit_data['score'].append(post.score)\n",
    "    reddit_data['text'].append(post.selftext)"
   ]
  },
  {
   "cell_type": "code",
   "execution_count": 70,
   "id": "e894d43d",
   "metadata": {},
   "outputs": [],
   "source": [
    "ds_df = pd.DataFrame(reddit_data)"
   ]
  },
  {
   "cell_type": "code",
   "execution_count": 71,
   "id": "13140625",
   "metadata": {},
   "outputs": [
    {
     "data": {
      "text/html": [
       "<div>\n",
       "<style scoped>\n",
       "    .dataframe tbody tr th:only-of-type {\n",
       "        vertical-align: middle;\n",
       "    }\n",
       "\n",
       "    .dataframe tbody tr th {\n",
       "        vertical-align: top;\n",
       "    }\n",
       "\n",
       "    .dataframe thead th {\n",
       "        text-align: right;\n",
       "    }\n",
       "</style>\n",
       "<table border=\"1\" class=\"dataframe\">\n",
       "  <thead>\n",
       "    <tr style=\"text-align: right;\">\n",
       "      <th></th>\n",
       "      <th>title</th>\n",
       "      <th>link</th>\n",
       "      <th>author</th>\n",
       "      <th>n_comments</th>\n",
       "      <th>score</th>\n",
       "      <th>text</th>\n",
       "    </tr>\n",
       "  </thead>\n",
       "  <tbody>\n",
       "    <tr>\n",
       "      <th>0</th>\n",
       "      <td>Weekly Entering &amp; Transitioning - Thread 02 Oc...</td>\n",
       "      <td>/r/datascience/comments/16xmlky/weekly_enterin...</td>\n",
       "      <td>AutoModerator</td>\n",
       "      <td>117</td>\n",
       "      <td>9</td>\n",
       "      <td>\\n\\nWelcome to this week's entering &amp; transit...</td>\n",
       "    </tr>\n",
       "    <tr>\n",
       "      <th>1</th>\n",
       "      <td>Should we use non-linear models for \"linear\" d...</td>\n",
       "      <td>/r/datascience/comments/172gy7a/should_we_use_...</td>\n",
       "      <td>dopplegangery</td>\n",
       "      <td>77</td>\n",
       "      <td>132</td>\n",
       "      <td>So I had an argument with an interviewer who a...</td>\n",
       "    </tr>\n",
       "    <tr>\n",
       "      <th>2</th>\n",
       "      <td>How do data scientist managers manage data sci...</td>\n",
       "      <td>/r/datascience/comments/172zdgx/how_do_data_sc...</td>\n",
       "      <td>cazzobomba</td>\n",
       "      <td>1</td>\n",
       "      <td>3</td>\n",
       "      <td>As a data science manager how do you manage yo...</td>\n",
       "    </tr>\n",
       "    <tr>\n",
       "      <th>3</th>\n",
       "      <td>master degree vs bootcamp in datascience</td>\n",
       "      <td>/r/datascience/comments/173076d/master_degree_...</td>\n",
       "      <td>Fiajji_print</td>\n",
       "      <td>0</td>\n",
       "      <td>1</td>\n",
       "      <td>Which is better a mster degree or a bootcamp i...</td>\n",
       "    </tr>\n",
       "    <tr>\n",
       "      <th>4</th>\n",
       "      <td>Does your team use Agile and did you have trou...</td>\n",
       "      <td>/r/datascience/comments/172zrsu/does_your_team...</td>\n",
       "      <td>Champaign__Supernova</td>\n",
       "      <td>6</td>\n",
       "      <td>1</td>\n",
       "      <td>I'm working with a team that uses Agile, and w...</td>\n",
       "    </tr>\n",
       "    <tr>\n",
       "      <th>...</th>\n",
       "      <td>...</td>\n",
       "      <td>...</td>\n",
       "      <td>...</td>\n",
       "      <td>...</td>\n",
       "      <td>...</td>\n",
       "      <td>...</td>\n",
       "    </tr>\n",
       "    <tr>\n",
       "      <th>926</th>\n",
       "      <td>Data = Oil</td>\n",
       "      <td>/r/datascience/comments/ycgmbu/data_oil/</td>\n",
       "      <td>realbigflavor</td>\n",
       "      <td>79</td>\n",
       "      <td>1314</td>\n",
       "      <td></td>\n",
       "    </tr>\n",
       "    <tr>\n",
       "      <th>927</th>\n",
       "      <td>Are there unions for data scientists?</td>\n",
       "      <td>/r/datascience/comments/tg2ki6/are_there_union...</td>\n",
       "      <td>DeepTrap</td>\n",
       "      <td>12</td>\n",
       "      <td>5</td>\n",
       "      <td>I’m only a few years into my career, but I’ve ...</td>\n",
       "    </tr>\n",
       "    <tr>\n",
       "      <th>928</th>\n",
       "      <td>Data Science and Data Analytics is becoming ul...</td>\n",
       "      <td>/r/datascience/comments/nue01q/data_science_an...</td>\n",
       "      <td></td>\n",
       "      <td>189</td>\n",
       "      <td>1071</td>\n",
       "      <td>I honestly, don't think people wanting to brea...</td>\n",
       "    </tr>\n",
       "    <tr>\n",
       "      <th>929</th>\n",
       "      <td>Is anyone here into marketing analytics? How d...</td>\n",
       "      <td>/r/datascience/comments/gp0ctd/is_anyone_here_...</td>\n",
       "      <td>Kpopaddiction</td>\n",
       "      <td>48</td>\n",
       "      <td>138</td>\n",
       "      <td>Edit: Thanks to the person who gave this gold ...</td>\n",
       "    </tr>\n",
       "    <tr>\n",
       "      <th>930</th>\n",
       "      <td>I enrolled in Columbia’s data science masters ...</td>\n",
       "      <td>/r/datascience/comments/c3kyea/i_enrolled_in_c...</td>\n",
       "      <td>bezerkeleythrowaway</td>\n",
       "      <td>52</td>\n",
       "      <td>48</td>\n",
       "      <td>The program is 3 semesters long, plus one summ...</td>\n",
       "    </tr>\n",
       "  </tbody>\n",
       "</table>\n",
       "<p>931 rows × 6 columns</p>\n",
       "</div>"
      ],
      "text/plain": [
       "                                                 title  \\\n",
       "0    Weekly Entering & Transitioning - Thread 02 Oc...   \n",
       "1    Should we use non-linear models for \"linear\" d...   \n",
       "2    How do data scientist managers manage data sci...   \n",
       "3             master degree vs bootcamp in datascience   \n",
       "4    Does your team use Agile and did you have trou...   \n",
       "..                                                 ...   \n",
       "926                                         Data = Oil   \n",
       "927              Are there unions for data scientists?   \n",
       "928  Data Science and Data Analytics is becoming ul...   \n",
       "929  Is anyone here into marketing analytics? How d...   \n",
       "930  I enrolled in Columbia’s data science masters ...   \n",
       "\n",
       "                                                  link                author  \\\n",
       "0    /r/datascience/comments/16xmlky/weekly_enterin...         AutoModerator   \n",
       "1    /r/datascience/comments/172gy7a/should_we_use_...         dopplegangery   \n",
       "2    /r/datascience/comments/172zdgx/how_do_data_sc...            cazzobomba   \n",
       "3    /r/datascience/comments/173076d/master_degree_...          Fiajji_print   \n",
       "4    /r/datascience/comments/172zrsu/does_your_team...  Champaign__Supernova   \n",
       "..                                                 ...                   ...   \n",
       "926           /r/datascience/comments/ycgmbu/data_oil/         realbigflavor   \n",
       "927  /r/datascience/comments/tg2ki6/are_there_union...              DeepTrap   \n",
       "928  /r/datascience/comments/nue01q/data_science_an...                         \n",
       "929  /r/datascience/comments/gp0ctd/is_anyone_here_...         Kpopaddiction   \n",
       "930  /r/datascience/comments/c3kyea/i_enrolled_in_c...   bezerkeleythrowaway   \n",
       "\n",
       "     n_comments  score                                               text  \n",
       "0           117      9   \\n\\nWelcome to this week's entering & transit...  \n",
       "1            77    132  So I had an argument with an interviewer who a...  \n",
       "2             1      3  As a data science manager how do you manage yo...  \n",
       "3             0      1  Which is better a mster degree or a bootcamp i...  \n",
       "4             6      1  I'm working with a team that uses Agile, and w...  \n",
       "..          ...    ...                                                ...  \n",
       "926          79   1314                                                     \n",
       "927          12      5  I’m only a few years into my career, but I’ve ...  \n",
       "928         189   1071  I honestly, don't think people wanting to brea...  \n",
       "929          48    138  Edit: Thanks to the person who gave this gold ...  \n",
       "930          52     48  The program is 3 semesters long, plus one summ...  \n",
       "\n",
       "[931 rows x 6 columns]"
      ]
     },
     "execution_count": 71,
     "metadata": {},
     "output_type": "execute_result"
    }
   ],
   "source": [
    "ds_df"
   ]
  },
  {
   "cell_type": "markdown",
   "id": "dc2ae8d0",
   "metadata": {},
   "source": [
    "# Checking comments for one of the post\n",
    "\n",
    "Picked up one post for datascience subreddit."
   ]
  },
  {
   "cell_type": "code",
   "execution_count": 26,
   "id": "383d9855",
   "metadata": {},
   "outputs": [],
   "source": [
    "url = \"https://www.reddit.com/r/datascience/comments/17089oc/for_those_who_are_in_a_data_science_related/\""
   ]
  },
  {
   "cell_type": "code",
   "execution_count": 27,
   "id": "4df3e15d",
   "metadata": {},
   "outputs": [],
   "source": [
    "datascience = reddit.submission(url=url)"
   ]
  },
  {
   "cell_type": "code",
   "execution_count": 28,
   "id": "f9afbaac",
   "metadata": {},
   "outputs": [
    {
     "name": "stdout",
     "output_type": "stream",
     "text": [
      "I removed your submission. Please post your question in the weekly entering & transitioning thread.\n",
      "\n",
      "Thanks.\n",
      "You can't learn everything at school. But you should learn a lot. My school was excellent for technical skills and theory. For me it was a good mix and I'm very pleased. I have BSCS and MS in data science. Every school is different and what one thinks is important others may not. My school had an application focus, I think that's the point of data science/analytics. If you want a more general degree, I would go for computer science.\n",
      "Answer is no, don’t even need to read the post. \n",
      "\n",
      "It’s true for every field from Data Scientist to the President of the United States to a Janitor.\n",
      "Bachelor of Information Science here. I feel like the degree wasn't much more than an introduction to the most utilized tools. Anything serious I have had to learn on my own.\n",
      "Had a bachelors in business analytics (first days of this program)\n",
      "\n",
      "Then went back and got my masters in data science 7 years later.\n",
      "\n",
      "Each degree helped me get my start in each area but did the vast majority of my learning on the job and research. This field is constantly changing, you have to be a life long learner to keep up.\n",
      "Definitely not. Just focus on the fundamentals and gain breadth on the job. You want to be “T” shaped. Be really good at something, and be sufficient at everything else.\n",
      "School won't prepare you for how cursed real world data is.\n",
      "I work full time as a Data Engineer and study MSc Data Science part time, and no, my course definitely does not teach every skill you will need. The working world is very different!\n"
     ]
    }
   ],
   "source": [
    "for top_level_comment in datascience.comments:\n",
    "    print(top_level_comment.body)"
   ]
  },
  {
   "cell_type": "markdown",
   "id": "a6d21789",
   "metadata": {},
   "source": [
    "# Saving data to sqlite"
   ]
  },
  {
   "cell_type": "code",
   "execution_count": 13,
   "id": "d46e93ea",
   "metadata": {},
   "outputs": [],
   "source": [
    "import sqlite3"
   ]
  },
  {
   "cell_type": "code",
   "execution_count": 72,
   "id": "df90969e",
   "metadata": {},
   "outputs": [
    {
     "data": {
      "text/plain": [
       "931"
      ]
     },
     "execution_count": 72,
     "metadata": {},
     "output_type": "execute_result"
    }
   ],
   "source": [
    "# Moving the data to sqlite file\n",
    "\n",
    "con = sqlite3.connect(\"ds_reddit.sqlite\")\n",
    "ds_df.to_sql('posts', con, if_exists='replace', index=False)"
   ]
  },
  {
   "cell_type": "markdown",
   "id": "07304cda",
   "metadata": {},
   "source": [
    "# Checking the data saved in sqlite file"
   ]
  },
  {
   "cell_type": "code",
   "execution_count": 73,
   "id": "af64a47f",
   "metadata": {},
   "outputs": [
    {
     "data": {
      "text/html": [
       "<div>\n",
       "<style scoped>\n",
       "    .dataframe tbody tr th:only-of-type {\n",
       "        vertical-align: middle;\n",
       "    }\n",
       "\n",
       "    .dataframe tbody tr th {\n",
       "        vertical-align: top;\n",
       "    }\n",
       "\n",
       "    .dataframe thead th {\n",
       "        text-align: right;\n",
       "    }\n",
       "</style>\n",
       "<table border=\"1\" class=\"dataframe\">\n",
       "  <thead>\n",
       "    <tr style=\"text-align: right;\">\n",
       "      <th></th>\n",
       "      <th>title</th>\n",
       "      <th>link</th>\n",
       "      <th>author</th>\n",
       "      <th>n_comments</th>\n",
       "      <th>score</th>\n",
       "      <th>text</th>\n",
       "    </tr>\n",
       "  </thead>\n",
       "  <tbody>\n",
       "    <tr>\n",
       "      <th>0</th>\n",
       "      <td>Weekly Entering &amp; Transitioning - Thread 02 Oc...</td>\n",
       "      <td>/r/datascience/comments/16xmlky/weekly_enterin...</td>\n",
       "      <td>AutoModerator</td>\n",
       "      <td>117</td>\n",
       "      <td>9</td>\n",
       "      <td>\\n\\nWelcome to this week's entering &amp; transit...</td>\n",
       "    </tr>\n",
       "    <tr>\n",
       "      <th>1</th>\n",
       "      <td>Should we use non-linear models for \"linear\" d...</td>\n",
       "      <td>/r/datascience/comments/172gy7a/should_we_use_...</td>\n",
       "      <td>dopplegangery</td>\n",
       "      <td>77</td>\n",
       "      <td>132</td>\n",
       "      <td>So I had an argument with an interviewer who a...</td>\n",
       "    </tr>\n",
       "    <tr>\n",
       "      <th>2</th>\n",
       "      <td>How do data scientist managers manage data sci...</td>\n",
       "      <td>/r/datascience/comments/172zdgx/how_do_data_sc...</td>\n",
       "      <td>cazzobomba</td>\n",
       "      <td>1</td>\n",
       "      <td>3</td>\n",
       "      <td>As a data science manager how do you manage yo...</td>\n",
       "    </tr>\n",
       "    <tr>\n",
       "      <th>3</th>\n",
       "      <td>master degree vs bootcamp in datascience</td>\n",
       "      <td>/r/datascience/comments/173076d/master_degree_...</td>\n",
       "      <td>Fiajji_print</td>\n",
       "      <td>0</td>\n",
       "      <td>1</td>\n",
       "      <td>Which is better a mster degree or a bootcamp i...</td>\n",
       "    </tr>\n",
       "    <tr>\n",
       "      <th>4</th>\n",
       "      <td>Does your team use Agile and did you have trou...</td>\n",
       "      <td>/r/datascience/comments/172zrsu/does_your_team...</td>\n",
       "      <td>Champaign__Supernova</td>\n",
       "      <td>6</td>\n",
       "      <td>1</td>\n",
       "      <td>I'm working with a team that uses Agile, and w...</td>\n",
       "    </tr>\n",
       "    <tr>\n",
       "      <th>...</th>\n",
       "      <td>...</td>\n",
       "      <td>...</td>\n",
       "      <td>...</td>\n",
       "      <td>...</td>\n",
       "      <td>...</td>\n",
       "      <td>...</td>\n",
       "    </tr>\n",
       "    <tr>\n",
       "      <th>926</th>\n",
       "      <td>Data = Oil</td>\n",
       "      <td>/r/datascience/comments/ycgmbu/data_oil/</td>\n",
       "      <td>realbigflavor</td>\n",
       "      <td>79</td>\n",
       "      <td>1314</td>\n",
       "      <td></td>\n",
       "    </tr>\n",
       "    <tr>\n",
       "      <th>927</th>\n",
       "      <td>Are there unions for data scientists?</td>\n",
       "      <td>/r/datascience/comments/tg2ki6/are_there_union...</td>\n",
       "      <td>DeepTrap</td>\n",
       "      <td>12</td>\n",
       "      <td>5</td>\n",
       "      <td>I’m only a few years into my career, but I’ve ...</td>\n",
       "    </tr>\n",
       "    <tr>\n",
       "      <th>928</th>\n",
       "      <td>Data Science and Data Analytics is becoming ul...</td>\n",
       "      <td>/r/datascience/comments/nue01q/data_science_an...</td>\n",
       "      <td></td>\n",
       "      <td>189</td>\n",
       "      <td>1071</td>\n",
       "      <td>I honestly, don't think people wanting to brea...</td>\n",
       "    </tr>\n",
       "    <tr>\n",
       "      <th>929</th>\n",
       "      <td>Is anyone here into marketing analytics? How d...</td>\n",
       "      <td>/r/datascience/comments/gp0ctd/is_anyone_here_...</td>\n",
       "      <td>Kpopaddiction</td>\n",
       "      <td>48</td>\n",
       "      <td>138</td>\n",
       "      <td>Edit: Thanks to the person who gave this gold ...</td>\n",
       "    </tr>\n",
       "    <tr>\n",
       "      <th>930</th>\n",
       "      <td>I enrolled in Columbia’s data science masters ...</td>\n",
       "      <td>/r/datascience/comments/c3kyea/i_enrolled_in_c...</td>\n",
       "      <td>bezerkeleythrowaway</td>\n",
       "      <td>52</td>\n",
       "      <td>48</td>\n",
       "      <td>The program is 3 semesters long, plus one summ...</td>\n",
       "    </tr>\n",
       "  </tbody>\n",
       "</table>\n",
       "<p>931 rows × 6 columns</p>\n",
       "</div>"
      ],
      "text/plain": [
       "                                                 title  \\\n",
       "0    Weekly Entering & Transitioning - Thread 02 Oc...   \n",
       "1    Should we use non-linear models for \"linear\" d...   \n",
       "2    How do data scientist managers manage data sci...   \n",
       "3             master degree vs bootcamp in datascience   \n",
       "4    Does your team use Agile and did you have trou...   \n",
       "..                                                 ...   \n",
       "926                                         Data = Oil   \n",
       "927              Are there unions for data scientists?   \n",
       "928  Data Science and Data Analytics is becoming ul...   \n",
       "929  Is anyone here into marketing analytics? How d...   \n",
       "930  I enrolled in Columbia’s data science masters ...   \n",
       "\n",
       "                                                  link                author  \\\n",
       "0    /r/datascience/comments/16xmlky/weekly_enterin...         AutoModerator   \n",
       "1    /r/datascience/comments/172gy7a/should_we_use_...         dopplegangery   \n",
       "2    /r/datascience/comments/172zdgx/how_do_data_sc...            cazzobomba   \n",
       "3    /r/datascience/comments/173076d/master_degree_...          Fiajji_print   \n",
       "4    /r/datascience/comments/172zrsu/does_your_team...  Champaign__Supernova   \n",
       "..                                                 ...                   ...   \n",
       "926           /r/datascience/comments/ycgmbu/data_oil/         realbigflavor   \n",
       "927  /r/datascience/comments/tg2ki6/are_there_union...              DeepTrap   \n",
       "928  /r/datascience/comments/nue01q/data_science_an...                         \n",
       "929  /r/datascience/comments/gp0ctd/is_anyone_here_...         Kpopaddiction   \n",
       "930  /r/datascience/comments/c3kyea/i_enrolled_in_c...   bezerkeleythrowaway   \n",
       "\n",
       "     n_comments  score                                               text  \n",
       "0           117      9   \\n\\nWelcome to this week's entering & transit...  \n",
       "1            77    132  So I had an argument with an interviewer who a...  \n",
       "2             1      3  As a data science manager how do you manage yo...  \n",
       "3             0      1  Which is better a mster degree or a bootcamp i...  \n",
       "4             6      1  I'm working with a team that uses Agile, and w...  \n",
       "..          ...    ...                                                ...  \n",
       "926          79   1314                                                     \n",
       "927          12      5  I’m only a few years into my career, but I’ve ...  \n",
       "928         189   1071  I honestly, don't think people wanting to brea...  \n",
       "929          48    138  Edit: Thanks to the person who gave this gold ...  \n",
       "930          52     48  The program is 3 semesters long, plus one summ...  \n",
       "\n",
       "[931 rows x 6 columns]"
      ]
     },
     "execution_count": 73,
     "metadata": {},
     "output_type": "execute_result"
    }
   ],
   "source": [
    "ds_df_check = pd.read_sql_query('SELECT * FROM posts;', con)\n",
    "# it's best to close the connection when finished\n",
    "con.close()\n",
    "ds_df_check"
   ]
  },
  {
   "cell_type": "markdown",
   "id": "640fb5a4",
   "metadata": {},
   "source": [
    "# EDA on datascience data"
   ]
  },
  {
   "cell_type": "code",
   "execution_count": 38,
   "id": "a6d70291",
   "metadata": {},
   "outputs": [
    {
     "data": {
      "text/plain": [
       "<Axes: ylabel='Frequency'>"
      ]
     },
     "execution_count": 38,
     "metadata": {},
     "output_type": "execute_result"
    },
    {
     "data": {
      "image/png": "[encoded data removed]",
      "text/plain": [
       "<Figure size 640x480 with 1 Axes>"
      ]
     },
     "metadata": {},
     "output_type": "display_data"
    }
   ],
   "source": [
    "ds_df['score'].plot.hist(bins=30)"
   ]
  },
  {
   "cell_type": "code",
   "execution_count": 44,
   "id": "08b4822a",
   "metadata": {},
   "outputs": [
    {
     "data": {
      "text/html": [
       "<div>\n",
       "<style scoped>\n",
       "    .dataframe tbody tr th:only-of-type {\n",
       "        vertical-align: middle;\n",
       "    }\n",
       "\n",
       "    .dataframe tbody tr th {\n",
       "        vertical-align: top;\n",
       "    }\n",
       "\n",
       "    .dataframe thead th {\n",
       "        text-align: right;\n",
       "    }\n",
       "</style>\n",
       "<table border=\"1\" class=\"dataframe\">\n",
       "  <thead>\n",
       "    <tr style=\"text-align: right;\">\n",
       "      <th></th>\n",
       "      <th>title</th>\n",
       "      <th>link</th>\n",
       "      <th>author</th>\n",
       "      <th>n_comments</th>\n",
       "      <th>score</th>\n",
       "      <th>text</th>\n",
       "    </tr>\n",
       "  </thead>\n",
       "  <tbody>\n",
       "    <tr>\n",
       "      <th>108</th>\n",
       "      <td>It's not just you. Everyone hates the return t...</td>\n",
       "      <td>/r/datascience/comments/16vaaco/its_not_just_y...</td>\n",
       "      <td>databro92</td>\n",
       "      <td>254</td>\n",
       "      <td>618</td>\n",
       "      <td>Somehow, I am lucky enough to land a completel...</td>\n",
       "    </tr>\n",
       "    <tr>\n",
       "      <th>154</th>\n",
       "      <td>LLMs hype has killed data science</td>\n",
       "      <td>/r/datascience/comments/16t9p4v/llms_hype_has_...</td>\n",
       "      <td>BiteFancy9628</td>\n",
       "      <td>302</td>\n",
       "      <td>836</td>\n",
       "      <td>That's it.\\n\\nAt my work in a huge company alm...</td>\n",
       "    </tr>\n",
       "    <tr>\n",
       "      <th>747</th>\n",
       "      <td>It be like this now</td>\n",
       "      <td>/r/datascience/comments/16fm64z/it_be_like_thi...</td>\n",
       "      <td>OverratedDataScience</td>\n",
       "      <td>52</td>\n",
       "      <td>1131</td>\n",
       "      <td></td>\n",
       "    </tr>\n",
       "    <tr>\n",
       "      <th>886</th>\n",
       "      <td>I posted for a Data Analyst, this is what you ...</td>\n",
       "      <td>/r/datascience/comments/13k8665/i_posted_for_a...</td>\n",
       "      <td>greenearrow</td>\n",
       "      <td>288</td>\n",
       "      <td>858</td>\n",
       "      <td>Our org needs a new data analyst, so I wrote u...</td>\n",
       "    </tr>\n",
       "    <tr>\n",
       "      <th>891</th>\n",
       "      <td>Advice for data scientists</td>\n",
       "      <td>/r/datascience/comments/133n4a1/advice_for_dat...</td>\n",
       "      <td>RuffleCopter</td>\n",
       "      <td>322</td>\n",
       "      <td>1040</td>\n",
       "      <td>Throughout my career, I have always occupied r...</td>\n",
       "    </tr>\n",
       "    <tr>\n",
       "      <th>893</th>\n",
       "      <td>Pretty Accurate Chart to Clear Up Job Title Am...</td>\n",
       "      <td>/r/datascience/comments/12zwc24/pretty_accurat...</td>\n",
       "      <td>gpbuilder</td>\n",
       "      <td>199</td>\n",
       "      <td>1976</td>\n",
       "      <td></td>\n",
       "    </tr>\n",
       "    <tr>\n",
       "      <th>901</th>\n",
       "      <td>Data = Oil</td>\n",
       "      <td>/r/datascience/comments/ycgmbu/data_oil/</td>\n",
       "      <td>realbigflavor</td>\n",
       "      <td>79</td>\n",
       "      <td>1306</td>\n",
       "      <td></td>\n",
       "    </tr>\n",
       "    <tr>\n",
       "      <th>903</th>\n",
       "      <td>Data Science and Data Analytics is becoming ul...</td>\n",
       "      <td>/r/datascience/comments/nue01q/data_science_an...</td>\n",
       "      <td></td>\n",
       "      <td>189</td>\n",
       "      <td>1068</td>\n",
       "      <td>I honestly, don't think people wanting to brea...</td>\n",
       "    </tr>\n",
       "  </tbody>\n",
       "</table>\n",
       "</div>"
      ],
      "text/plain": [
       "                                                 title  \\\n",
       "108  It's not just you. Everyone hates the return t...   \n",
       "154                  LLMs hype has killed data science   \n",
       "747                                It be like this now   \n",
       "886  I posted for a Data Analyst, this is what you ...   \n",
       "891                         Advice for data scientists   \n",
       "893  Pretty Accurate Chart to Clear Up Job Title Am...   \n",
       "901                                         Data = Oil   \n",
       "903  Data Science and Data Analytics is becoming ul...   \n",
       "\n",
       "                                                  link                author  \\\n",
       "108  /r/datascience/comments/16vaaco/its_not_just_y...             databro92   \n",
       "154  /r/datascience/comments/16t9p4v/llms_hype_has_...         BiteFancy9628   \n",
       "747  /r/datascience/comments/16fm64z/it_be_like_thi...  OverratedDataScience   \n",
       "886  /r/datascience/comments/13k8665/i_posted_for_a...           greenearrow   \n",
       "891  /r/datascience/comments/133n4a1/advice_for_dat...          RuffleCopter   \n",
       "893  /r/datascience/comments/12zwc24/pretty_accurat...             gpbuilder   \n",
       "901           /r/datascience/comments/ycgmbu/data_oil/         realbigflavor   \n",
       "903  /r/datascience/comments/nue01q/data_science_an...                         \n",
       "\n",
       "     n_comments  score                                               text  \n",
       "108         254    618  Somehow, I am lucky enough to land a completel...  \n",
       "154         302    836  That's it.\\n\\nAt my work in a huge company alm...  \n",
       "747          52   1131                                                     \n",
       "886         288    858  Our org needs a new data analyst, so I wrote u...  \n",
       "891         322   1040  Throughout my career, I have always occupied r...  \n",
       "893         199   1976                                                     \n",
       "901          79   1306                                                     \n",
       "903         189   1068  I honestly, don't think people wanting to brea...  "
      ]
     },
     "execution_count": 44,
     "metadata": {},
     "output_type": "execute_result"
    }
   ],
   "source": [
    "ds_df[ds_df['score'] > 600]"
   ]
  },
  {
   "cell_type": "code",
   "execution_count": 45,
   "id": "b0bd2c6a",
   "metadata": {},
   "outputs": [
    {
     "data": {
      "text/plain": [
       "['/r/datascience/comments/16vaaco/its_not_just_you_everyone_hates_the_return_to/',\n",
       " '/r/datascience/comments/16t9p4v/llms_hype_has_killed_data_science/',\n",
       " '/r/datascience/comments/16fm64z/it_be_like_this_now/',\n",
       " '/r/datascience/comments/13k8665/i_posted_for_a_data_analyst_this_is_what_you_are/',\n",
       " '/r/datascience/comments/133n4a1/advice_for_data_scientists/',\n",
       " '/r/datascience/comments/12zwc24/pretty_accurate_chart_to_clear_up_job_title/',\n",
       " '/r/datascience/comments/ycgmbu/data_oil/',\n",
       " '/r/datascience/comments/nue01q/data_science_and_data_analytics_is_becoming_ultra/']"
      ]
     },
     "execution_count": 45,
     "metadata": {},
     "output_type": "execute_result"
    }
   ],
   "source": [
    "ds_df[ds_df['score'] > 600]['link'].to_list()"
   ]
  },
  {
   "cell_type": "code",
   "execution_count": 46,
   "id": "9709ed0b",
   "metadata": {},
   "outputs": [
    {
     "data": {
      "text/plain": [
       "<Axes: >"
      ]
     },
     "execution_count": 46,
     "metadata": {},
     "output_type": "execute_result"
    },
    {
     "data": {
      "image/png": "[encoded data removed]",
      "text/plain": [
       "<Figure size 640x480 with 1 Axes>"
      ]
     },
     "metadata": {},
     "output_type": "display_data"
    }
   ],
   "source": [
    "# Plotting a boxplot but we see some outliers\n",
    "ds_df.boxplot('n_comments')"
   ]
  },
  {
   "cell_type": "code",
   "execution_count": 47,
   "id": "7bbd3911",
   "metadata": {},
   "outputs": [
    {
     "data": {
      "image/png": "[encoded data removed]",
      "text/plain": [
       "<Figure size 640x480 with 1 Axes>"
      ]
     },
     "metadata": {},
     "output_type": "display_data"
    }
   ],
   "source": [
    "import matplotlib.pyplot as plt\n",
    "ds_df.boxplot('n_comments')\n",
    "plt.yscale('log')"
   ]
  },
  {
   "cell_type": "markdown",
   "id": "b174a7ca",
   "metadata": {},
   "source": [
    "Still some outliers can be observed.\n",
    "\n",
    "# Scatter plot"
   ]
  },
  {
   "cell_type": "code",
   "execution_count": 48,
   "id": "ac1eefe3",
   "metadata": {},
   "outputs": [
    {
     "data": {
      "text/plain": [
       "<Axes: xlabel='score', ylabel='n_comments'>"
      ]
     },
     "execution_count": 48,
     "metadata": {},
     "output_type": "execute_result"
    },
    {
     "data": {
      "image/png": "[encoded data removed]",
      "text/plain": [
       "<Figure size 640x480 with 1 Axes>"
      ]
     },
     "metadata": {},
     "output_type": "display_data"
    }
   ],
   "source": [
    "ds_df.plot.scatter(x='score', y='n_comments')"
   ]
  },
  {
   "cell_type": "markdown",
   "id": "cca7cfb0",
   "metadata": {},
   "source": [
    "# Bar Plot"
   ]
  },
  {
   "cell_type": "code",
   "execution_count": 50,
   "id": "d1c6b05a",
   "metadata": {},
   "outputs": [
    {
     "data": {
      "text/plain": [
       "<Axes: xlabel='author'>"
      ]
     },
     "execution_count": 50,
     "metadata": {},
     "output_type": "execute_result"
    },
    {
     "data": {
      "image/png": "[encoded data removed]",
      "text/plain": [
       "<Figure size 640x480 with 1 Axes>"
      ]
     },
     "metadata": {},
     "output_type": "display_data"
    }
   ],
   "source": [
    "ds_df['author'].value_counts()[:10].plot.bar()"
   ]
  },
  {
   "cell_type": "markdown",
   "id": "dd326c95",
   "metadata": {},
   "source": []
  },
  {
   "cell_type": "markdown",
   "id": "aedcc68c",
   "metadata": {},
   "source": [
    "# Selecting posts where author is greenearrow"
   ]
  },
  {
   "cell_type": "code",
   "execution_count": 51,
   "id": "c152140e",
   "metadata": {},
   "outputs": [
    {
     "data": {
      "text/html": [
       "<div>\n",
       "<style scoped>\n",
       "    .dataframe tbody tr th:only-of-type {\n",
       "        vertical-align: middle;\n",
       "    }\n",
       "\n",
       "    .dataframe tbody tr th {\n",
       "        vertical-align: top;\n",
       "    }\n",
       "\n",
       "    .dataframe thead th {\n",
       "        text-align: right;\n",
       "    }\n",
       "</style>\n",
       "<table border=\"1\" class=\"dataframe\">\n",
       "  <thead>\n",
       "    <tr style=\"text-align: right;\">\n",
       "      <th></th>\n",
       "      <th>title</th>\n",
       "      <th>link</th>\n",
       "      <th>author</th>\n",
       "      <th>n_comments</th>\n",
       "      <th>score</th>\n",
       "      <th>text</th>\n",
       "    </tr>\n",
       "  </thead>\n",
       "  <tbody>\n",
       "    <tr>\n",
       "      <th>886</th>\n",
       "      <td>I posted for a Data Analyst, this is what you ...</td>\n",
       "      <td>/r/datascience/comments/13k8665/i_posted_for_a...</td>\n",
       "      <td>greenearrow</td>\n",
       "      <td>288</td>\n",
       "      <td>858</td>\n",
       "      <td>Our org needs a new data analyst, so I wrote u...</td>\n",
       "    </tr>\n",
       "  </tbody>\n",
       "</table>\n",
       "</div>"
      ],
      "text/plain": [
       "                                                 title  \\\n",
       "886  I posted for a Data Analyst, this is what you ...   \n",
       "\n",
       "                                                  link       author  \\\n",
       "886  /r/datascience/comments/13k8665/i_posted_for_a...  greenearrow   \n",
       "\n",
       "     n_comments  score                                               text  \n",
       "886         288    858  Our org needs a new data analyst, so I wrote u...  "
      ]
     },
     "execution_count": 51,
     "metadata": {},
     "output_type": "execute_result"
    }
   ],
   "source": [
    "ds_df[ds_df['author'] == 'greenearrow']"
   ]
  },
  {
   "cell_type": "markdown",
   "id": "64d8e6f4",
   "metadata": {},
   "source": [
    "# Analysis\n",
    "\n",
    "Created the API keys and user id for reddit website and added to the credentials.py.\n",
    "I have taken datascience subreddit for analaysis today. Started by extracting the first 10 posts for this subreddit and saved it in \"ds_subreddit\". used for loop to traverse the posts in ds_subreddit.Checked on the score, title and permalink for the posts.\n",
    "Further extracted the complete seubreddit posts using for loop and saved it in pandas data frame \"ds_df\". It has total 931 posts.tried to check comments for one of the post using the url and extracted the top level comment.\n",
    "Post this saved the data to sqlite file in the local \"ds_reddit.sqlite\" and checked by again creating a dataframe from this data. Observation is all 931 posts are extracted fine.\n",
    "Did some EDA on this data science subreddit, plotted a histogram afor score frequency and checked the records where score is greater than 600 and got the permalinks in a list. Plotted the boxplot and observed few outliers. Also plotted the scatter plot with numeric data that is score and comments . Plotted a bar plot with author and score and got the top author (one with highest score). Tried the query by selecing the records for one particular author."
   ]
  },
  {
   "cell_type": "markdown",
   "id": "60eaf8ea",
   "metadata": {},
   "source": [
    "# Optional section"
   ]
  },
  {
   "cell_type": "markdown",
   "id": "f2310381",
   "metadata": {},
   "source": [
    "# Selecting few columns of the data"
   ]
  },
  {
   "cell_type": "code",
   "execution_count": 14,
   "id": "6ae4ec61",
   "metadata": {},
   "outputs": [
    {
     "data": {
      "text/html": [
       "<div>\n",
       "<style scoped>\n",
       "    .dataframe tbody tr th:only-of-type {\n",
       "        vertical-align: middle;\n",
       "    }\n",
       "\n",
       "    .dataframe tbody tr th {\n",
       "        vertical-align: top;\n",
       "    }\n",
       "\n",
       "    .dataframe thead th {\n",
       "        text-align: right;\n",
       "    }\n",
       "</style>\n",
       "<table border=\"1\" class=\"dataframe\">\n",
       "  <thead>\n",
       "    <tr style=\"text-align: right;\">\n",
       "      <th></th>\n",
       "      <th>title</th>\n",
       "      <th>n_comments</th>\n",
       "    </tr>\n",
       "  </thead>\n",
       "  <tbody>\n",
       "    <tr>\n",
       "      <th>0</th>\n",
       "      <td>Weekly Entering &amp; Transitioning - Thread 02 Oc...</td>\n",
       "      <td>87</td>\n",
       "    </tr>\n",
       "    <tr>\n",
       "      <th>1</th>\n",
       "      <td>The most sought-after Data Science skills</td>\n",
       "      <td>50</td>\n",
       "    </tr>\n",
       "    <tr>\n",
       "      <th>2</th>\n",
       "      <td>Data Analyst to Data Science (already have Mas...</td>\n",
       "      <td>0</td>\n",
       "    </tr>\n",
       "    <tr>\n",
       "      <th>3</th>\n",
       "      <td>What is a foundational model?</td>\n",
       "      <td>11</td>\n",
       "    </tr>\n",
       "    <tr>\n",
       "      <th>4</th>\n",
       "      <td>Data Science not in demand.</td>\n",
       "      <td>228</td>\n",
       "    </tr>\n",
       "    <tr>\n",
       "      <th>...</th>\n",
       "      <td>...</td>\n",
       "      <td>...</td>\n",
       "    </tr>\n",
       "    <tr>\n",
       "      <th>901</th>\n",
       "      <td>Data = Oil</td>\n",
       "      <td>79</td>\n",
       "    </tr>\n",
       "    <tr>\n",
       "      <th>902</th>\n",
       "      <td>Are there unions for data scientists?</td>\n",
       "      <td>12</td>\n",
       "    </tr>\n",
       "    <tr>\n",
       "      <th>903</th>\n",
       "      <td>Data Science and Data Analytics is becoming ul...</td>\n",
       "      <td>189</td>\n",
       "    </tr>\n",
       "    <tr>\n",
       "      <th>904</th>\n",
       "      <td>Is anyone here into marketing analytics? How d...</td>\n",
       "      <td>48</td>\n",
       "    </tr>\n",
       "    <tr>\n",
       "      <th>905</th>\n",
       "      <td>I enrolled in Columbia’s data science masters ...</td>\n",
       "      <td>52</td>\n",
       "    </tr>\n",
       "  </tbody>\n",
       "</table>\n",
       "<p>906 rows × 2 columns</p>\n",
       "</div>"
      ],
      "text/plain": [
       "                                                 title  n_comments\n",
       "0    Weekly Entering & Transitioning - Thread 02 Oc...          87\n",
       "1            The most sought-after Data Science skills          50\n",
       "2    Data Analyst to Data Science (already have Mas...           0\n",
       "3                        What is a foundational model?          11\n",
       "4                          Data Science not in demand.         228\n",
       "..                                                 ...         ...\n",
       "901                                         Data = Oil          79\n",
       "902              Are there unions for data scientists?          12\n",
       "903  Data Science and Data Analytics is becoming ul...         189\n",
       "904  Is anyone here into marketing analytics? How d...          48\n",
       "905  I enrolled in Columbia’s data science masters ...          52\n",
       "\n",
       "[906 rows x 2 columns]"
      ]
     },
     "execution_count": 14,
     "metadata": {},
     "output_type": "execute_result"
    }
   ],
   "source": [
    "con = sqlite3.connect('ds_reddit.sqlite')\n",
    "test_df = pd.read_sql_query('SELECT title, n_comments FROM posts;', con)\n",
    "con.close()\n",
    "test_df"
   ]
  },
  {
   "cell_type": "markdown",
   "id": "d41a405b",
   "metadata": {},
   "source": [
    "# Collecting more than 1000 posts.\n",
    "\n",
    "This data also have 906 posts but checking on the recent posts"
   ]
  },
  {
   "cell_type": "code",
   "execution_count": 15,
   "id": "6705fa5d",
   "metadata": {},
   "outputs": [],
   "source": [
    "newest_posts = list(reddit.subreddit('datascience').new(limit=10))"
   ]
  },
  {
   "cell_type": "code",
   "execution_count": 55,
   "id": "605748e8",
   "metadata": {},
   "outputs": [
    {
     "data": {
      "text/plain": [
       "10"
      ]
     },
     "execution_count": 55,
     "metadata": {},
     "output_type": "execute_result"
    }
   ],
   "source": [
    "len(newest_posts)"
   ]
  },
  {
   "cell_type": "code",
   "execution_count": 57,
   "id": "6b071817",
   "metadata": {},
   "outputs": [
    {
     "data": {
      "text/plain": [
       "Submission(id='171ii99')"
      ]
     },
     "execution_count": 57,
     "metadata": {},
     "output_type": "execute_result"
    }
   ],
   "source": [
    "newest_posts[0]"
   ]
  },
  {
   "cell_type": "code",
   "execution_count": 59,
   "id": "255c2adf",
   "metadata": {},
   "outputs": [
    {
     "data": {
      "text/plain": [
       "1696613604.0"
      ]
     },
     "execution_count": 59,
     "metadata": {},
     "output_type": "execute_result"
    }
   ],
   "source": [
    "newest_posts[0].created_utc"
   ]
  },
  {
   "cell_type": "code",
   "execution_count": 60,
   "id": "14a2d9d8",
   "metadata": {},
   "outputs": [
    {
     "data": {
      "text/plain": [
       "1696531670.0"
      ]
     },
     "execution_count": 60,
     "metadata": {},
     "output_type": "execute_result"
    }
   ],
   "source": [
    "newest_posts[-1].created_utc"
   ]
  },
  {
   "cell_type": "markdown",
   "id": "0db25c46",
   "metadata": {},
   "source": [
    "# Collecting comments"
   ]
  },
  {
   "cell_type": "code",
   "execution_count": 32,
   "id": "5bb075a9",
   "metadata": {},
   "outputs": [],
   "source": [
    "reddit_posts_data = {'title': [],\n",
    "                    'link': [],\n",
    "                    'author': [],\n",
    "                    'n_comments': [],\n",
    "                    'score': [],\n",
    "                    'text': [],\n",
    "                    'id': []}\n",
    "\n",
    "reddit_comments_data = {'author': [],\n",
    "                        'score': [],\n",
    "                        'text': [],\n",
    "                        'post_id': []}\n",
    "\n",
    "ds_subreddit = reddit.subreddit('datascience').new(limit=None)\n",
    "\n",
    "for post in list(ds_subreddit):\n",
    "    reddit_posts_data['title'].append(post.title)\n",
    "    reddit_posts_data['link'].append(post.permalink)\n",
    "    if post.author is None:\n",
    "        reddit_posts_data['author'].append(None)\n",
    "    else:\n",
    "        reddit_posts_data['author'].append(post.author.name)\n",
    "    reddit_posts_data['n_comments'].append(post.num_comments)\n",
    "    reddit_posts_data['score'].append(post.score)\n",
    "    reddit_posts_data['text'].append(post.selftext)\n",
    "    reddit_posts_data['id'].append(post.id)\n",
    "\n",
    "    post.comments.replace_more(limit=None)\n",
    "    for comment in post.comments:\n",
    "        if comment.author is None:\n",
    "            reddit_comments_data['author'].append('')\n",
    "        else:\n",
    "            reddit_comments_data['author'].append(comment.author.name)\n",
    "        reddit_comments_data['score'].append(comment.score)\n",
    "        reddit_comments_data['text'].append(comment.body)\n",
    "        reddit_comments_data['post_id'].append(post.id)"
   ]
  },
  {
   "cell_type": "code",
   "execution_count": 33,
   "id": "c36357aa",
   "metadata": {},
   "outputs": [],
   "source": [
    "post_df = pd.DataFrame(reddit_posts_data)\n",
    "comment_df = pd.DataFrame(reddit_comments_data)"
   ]
  },
  {
   "cell_type": "code",
   "execution_count": 34,
   "id": "5ce09646",
   "metadata": {},
   "outputs": [],
   "source": [
    "con = sqlite3.connect('ds_reddit.sqlite')\n",
    "post_df.to_sql('posts_ds', con, if_exists='replace')\n",
    "comment_df.to_sql('comments_ds', con, if_exists='replace')\n",
    "con.close()"
   ]
  },
  {
   "cell_type": "code",
   "execution_count": 35,
   "id": "7a58016f",
   "metadata": {},
   "outputs": [
    {
     "data": {
      "text/html": [
       "<div>\n",
       "<style scoped>\n",
       "    .dataframe tbody tr th:only-of-type {\n",
       "        vertical-align: middle;\n",
       "    }\n",
       "\n",
       "    .dataframe tbody tr th {\n",
       "        vertical-align: top;\n",
       "    }\n",
       "\n",
       "    .dataframe thead th {\n",
       "        text-align: right;\n",
       "    }\n",
       "</style>\n",
       "<table border=\"1\" class=\"dataframe\">\n",
       "  <thead>\n",
       "    <tr style=\"text-align: right;\">\n",
       "      <th></th>\n",
       "      <th>author</th>\n",
       "      <th>score</th>\n",
       "      <th>text</th>\n",
       "      <th>post_id</th>\n",
       "    </tr>\n",
       "  </thead>\n",
       "  <tbody>\n",
       "    <tr>\n",
       "      <th>0</th>\n",
       "      <td>playsmartz</td>\n",
       "      <td>1</td>\n",
       "      <td>Depends on the kind of data?\\n\\nCountry names ...</td>\n",
       "      <td>172ko0y</td>\n",
       "    </tr>\n",
       "    <tr>\n",
       "      <th>1</th>\n",
       "      <td>MagicMark2</td>\n",
       "      <td>1</td>\n",
       "      <td>You could explore using an Aggregation if you ...</td>\n",
       "      <td>172ii3z</td>\n",
       "    </tr>\n",
       "    <tr>\n",
       "      <th>2</th>\n",
       "      <td>nerdyjorj</td>\n",
       "      <td>81</td>\n",
       "      <td>I'm on team \"the best model is the simplest on...</td>\n",
       "      <td>172gy7a</td>\n",
       "    </tr>\n",
       "    <tr>\n",
       "      <th>3</th>\n",
       "      <td>aspera1631</td>\n",
       "      <td>48</td>\n",
       "      <td>I would take your side in this argument, but I...</td>\n",
       "      <td>172gy7a</td>\n",
       "    </tr>\n",
       "    <tr>\n",
       "      <th>4</th>\n",
       "      <td>AntiqueFigure6</td>\n",
       "      <td>31</td>\n",
       "      <td>‘Only explainability’? Explainability is far f...</td>\n",
       "      <td>172gy7a</td>\n",
       "    </tr>\n",
       "    <tr>\n",
       "      <th>...</th>\n",
       "      <td>...</td>\n",
       "      <td>...</td>\n",
       "      <td>...</td>\n",
       "      <td>...</td>\n",
       "    </tr>\n",
       "    <tr>\n",
       "      <th>5323</th>\n",
       "      <td>milkteaoppa</td>\n",
       "      <td>1</td>\n",
       "      <td>Change your Masters Research into Experience a...</td>\n",
       "      <td>16dwt7v</td>\n",
       "    </tr>\n",
       "    <tr>\n",
       "      <th>5324</th>\n",
       "      <td>Davidat0r</td>\n",
       "      <td>1</td>\n",
       "      <td>How is this a dichotomy?</td>\n",
       "      <td>16dwt7v</td>\n",
       "    </tr>\n",
       "    <tr>\n",
       "      <th>5325</th>\n",
       "      <td>Dangerous_Hearing_34</td>\n",
       "      <td>2</td>\n",
       "      <td>Atta-boy!</td>\n",
       "      <td>16dwi3w</td>\n",
       "    </tr>\n",
       "    <tr>\n",
       "      <th>5326</th>\n",
       "      <td>billsgates12</td>\n",
       "      <td>2</td>\n",
       "      <td>Thanks for sharing! :)</td>\n",
       "      <td>16dwi3w</td>\n",
       "    </tr>\n",
       "    <tr>\n",
       "      <th>5327</th>\n",
       "      <td>Primordial_Fupa</td>\n",
       "      <td>2</td>\n",
       "      <td>Thank you for this!</td>\n",
       "      <td>16dwi3w</td>\n",
       "    </tr>\n",
       "  </tbody>\n",
       "</table>\n",
       "<p>5328 rows × 4 columns</p>\n",
       "</div>"
      ],
      "text/plain": [
       "                    author  score  \\\n",
       "0               playsmartz      1   \n",
       "1               MagicMark2      1   \n",
       "2                nerdyjorj     81   \n",
       "3               aspera1631     48   \n",
       "4           AntiqueFigure6     31   \n",
       "...                    ...    ...   \n",
       "5323           milkteaoppa      1   \n",
       "5324             Davidat0r      1   \n",
       "5325  Dangerous_Hearing_34      2   \n",
       "5326          billsgates12      2   \n",
       "5327       Primordial_Fupa      2   \n",
       "\n",
       "                                                   text  post_id  \n",
       "0     Depends on the kind of data?\\n\\nCountry names ...  172ko0y  \n",
       "1     You could explore using an Aggregation if you ...  172ii3z  \n",
       "2     I'm on team \"the best model is the simplest on...  172gy7a  \n",
       "3     I would take your side in this argument, but I...  172gy7a  \n",
       "4     ‘Only explainability’? Explainability is far f...  172gy7a  \n",
       "...                                                 ...      ...  \n",
       "5323  Change your Masters Research into Experience a...  16dwt7v  \n",
       "5324                           How is this a dichotomy?  16dwt7v  \n",
       "5325                                          Atta-boy!  16dwi3w  \n",
       "5326                             Thanks for sharing! :)  16dwi3w  \n",
       "5327                                Thank you for this!  16dwi3w  \n",
       "\n",
       "[5328 rows x 4 columns]"
      ]
     },
     "execution_count": 35,
     "metadata": {},
     "output_type": "execute_result"
    }
   ],
   "source": [
    "comment_df"
   ]
  },
  {
   "cell_type": "markdown",
   "id": "84a211d4",
   "metadata": {},
   "source": [
    "# Bar plot for comments df"
   ]
  },
  {
   "cell_type": "code",
   "execution_count": 22,
   "id": "ae67351e",
   "metadata": {},
   "outputs": [
    {
     "data": {
      "text/plain": [
       "<Axes: xlabel='author'>"
      ]
     },
     "execution_count": 22,
     "metadata": {},
     "output_type": "execute_result"
    },
    {
     "data": {
      "image/png": "[encoded data removed]",
      "text/plain": [
       "<Figure size 640x480 with 1 Axes>"
      ]
     },
     "metadata": {},
     "output_type": "display_data"
    }
   ],
   "source": [
    "comment_df['author'].value_counts()[:10].plot.bar()"
   ]
  },
  {
   "cell_type": "markdown",
   "id": "955efe00",
   "metadata": {},
   "source": [
    "# Histogram plot for scre frequency"
   ]
  },
  {
   "cell_type": "code",
   "execution_count": 74,
   "id": "9311eaf7",
   "metadata": {},
   "outputs": [
    {
     "data": {
      "text/plain": [
       "<Axes: ylabel='Frequency'>"
      ]
     },
     "execution_count": 74,
     "metadata": {},
     "output_type": "execute_result"
    },
    {
     "data": {
      "image/png": "[encoded data removed]",
      "text/plain": [
       "<Figure size 640x480 with 1 Axes>"
      ]
     },
     "metadata": {},
     "output_type": "display_data"
    }
   ],
   "source": [
    "comment_df['score'].plot.hist(bins=30)"
   ]
  },
  {
   "cell_type": "code",
   "execution_count": 29,
   "id": "2b16cb96",
   "metadata": {},
   "outputs": [
    {
     "data": {
      "text/html": [
       "<div>\n",
       "<style scoped>\n",
       "    .dataframe tbody tr th:only-of-type {\n",
       "        vertical-align: middle;\n",
       "    }\n",
       "\n",
       "    .dataframe tbody tr th {\n",
       "        vertical-align: top;\n",
       "    }\n",
       "\n",
       "    .dataframe thead th {\n",
       "        text-align: right;\n",
       "    }\n",
       "</style>\n",
       "<table border=\"1\" class=\"dataframe\">\n",
       "  <thead>\n",
       "    <tr style=\"text-align: right;\">\n",
       "      <th></th>\n",
       "      <th>author</th>\n",
       "      <th>score</th>\n",
       "      <th>text</th>\n",
       "      <th>post_id</th>\n",
       "    </tr>\n",
       "  </thead>\n",
       "  <tbody>\n",
       "    <tr>\n",
       "      <th>742</th>\n",
       "      <td>3xil3d_vinyl</td>\n",
       "      <td>6</td>\n",
       "      <td>I have a BS in Statistics and Economics.\\n\\nI ...</td>\n",
       "      <td>16x200r</td>\n",
       "    </tr>\n",
       "    <tr>\n",
       "      <th>1347</th>\n",
       "      <td>3xil3d_vinyl</td>\n",
       "      <td>3</td>\n",
       "      <td>Most people start out in Business Analytics be...</td>\n",
       "      <td>16ucjce</td>\n",
       "    </tr>\n",
       "    <tr>\n",
       "      <th>1833</th>\n",
       "      <td>3xil3d_vinyl</td>\n",
       "      <td>20</td>\n",
       "      <td>Yes, but get the degree from a top ranked scho...</td>\n",
       "      <td>16s2ex1</td>\n",
       "    </tr>\n",
       "    <tr>\n",
       "      <th>1931</th>\n",
       "      <td>3xil3d_vinyl</td>\n",
       "      <td>3</td>\n",
       "      <td>Your business should have a definition of marg...</td>\n",
       "      <td>16rt4o4</td>\n",
       "    </tr>\n",
       "    <tr>\n",
       "      <th>1953</th>\n",
       "      <td>3xil3d_vinyl</td>\n",
       "      <td>1</td>\n",
       "      <td>Can you upload those CSVs into a cloud warehou...</td>\n",
       "      <td>16rqnla</td>\n",
       "    </tr>\n",
       "    <tr>\n",
       "      <th>1986</th>\n",
       "      <td>3xil3d_vinyl</td>\n",
       "      <td>5</td>\n",
       "      <td>I have done recruiting at career fairs before....</td>\n",
       "      <td>16rjh59</td>\n",
       "    </tr>\n",
       "    <tr>\n",
       "      <th>2201</th>\n",
       "      <td>3xil3d_vinyl</td>\n",
       "      <td>17</td>\n",
       "      <td>1. Practice behavioral questions using the STA...</td>\n",
       "      <td>16qd0ij</td>\n",
       "    </tr>\n",
       "    <tr>\n",
       "      <th>2210</th>\n",
       "      <td>3xil3d_vinyl</td>\n",
       "      <td>10</td>\n",
       "      <td>There needs to be more moderators for this sub...</td>\n",
       "      <td>16qc882</td>\n",
       "    </tr>\n",
       "    <tr>\n",
       "      <th>2231</th>\n",
       "      <td>3xil3d_vinyl</td>\n",
       "      <td>18</td>\n",
       "      <td>Just take the job and live with roommates. Liv...</td>\n",
       "      <td>16qaxeq</td>\n",
       "    </tr>\n",
       "    <tr>\n",
       "      <th>2283</th>\n",
       "      <td>3xil3d_vinyl</td>\n",
       "      <td>5</td>\n",
       "      <td>I was told to learn a new tool and I asked que...</td>\n",
       "      <td>16qap3h</td>\n",
       "    </tr>\n",
       "    <tr>\n",
       "      <th>2289</th>\n",
       "      <td>3xil3d_vinyl</td>\n",
       "      <td>3</td>\n",
       "      <td>Attend Data Science meetups</td>\n",
       "      <td>16q9k4q</td>\n",
       "    </tr>\n",
       "    <tr>\n",
       "      <th>2400</th>\n",
       "      <td>3xil3d_vinyl</td>\n",
       "      <td>5</td>\n",
       "      <td>Why?</td>\n",
       "      <td>16pnmno</td>\n",
       "    </tr>\n",
       "    <tr>\n",
       "      <th>2445</th>\n",
       "      <td>3xil3d_vinyl</td>\n",
       "      <td>2</td>\n",
       "      <td>When I was in college, I learned SAS from the ...</td>\n",
       "      <td>16pkjgv</td>\n",
       "    </tr>\n",
       "    <tr>\n",
       "      <th>2447</th>\n",
       "      <td>3xil3d_vinyl</td>\n",
       "      <td>3</td>\n",
       "      <td>Very common to weed out applications.</td>\n",
       "      <td>16pfsg2</td>\n",
       "    </tr>\n",
       "    <tr>\n",
       "      <th>2448</th>\n",
       "      <td>3xil3d_vinyl</td>\n",
       "      <td>1</td>\n",
       "      <td>You can learn about dbt. It is using SQL and y...</td>\n",
       "      <td>16pecx6</td>\n",
       "    </tr>\n",
       "    <tr>\n",
       "      <th>2508</th>\n",
       "      <td>3xil3d_vinyl</td>\n",
       "      <td>2</td>\n",
       "      <td>Post this on r/resumes</td>\n",
       "      <td>16p9fy0</td>\n",
       "    </tr>\n",
       "    <tr>\n",
       "      <th>2509</th>\n",
       "      <td>3xil3d_vinyl</td>\n",
       "      <td>29</td>\n",
       "      <td>I use SQL all the time at my job and so do oth...</td>\n",
       "      <td>16p88ew</td>\n",
       "    </tr>\n",
       "    <tr>\n",
       "      <th>2575</th>\n",
       "      <td>3xil3d_vinyl</td>\n",
       "      <td>2</td>\n",
       "      <td>This can also be using HR data at any company....</td>\n",
       "      <td>16ov424</td>\n",
       "    </tr>\n",
       "    <tr>\n",
       "      <th>2655</th>\n",
       "      <td>3xil3d_vinyl</td>\n",
       "      <td>4</td>\n",
       "      <td>I use [Perplexity.ai](https://Perplexity.ai) t...</td>\n",
       "      <td>16orquj</td>\n",
       "    </tr>\n",
       "    <tr>\n",
       "      <th>2801</th>\n",
       "      <td>3xil3d_vinyl</td>\n",
       "      <td>1</td>\n",
       "      <td>Kaggle</td>\n",
       "      <td>16o53uu</td>\n",
       "    </tr>\n",
       "    <tr>\n",
       "      <th>2805</th>\n",
       "      <td>3xil3d_vinyl</td>\n",
       "      <td>1</td>\n",
       "      <td>Did you google?\\n\\nhttps://nida.nih.gov/resear...</td>\n",
       "      <td>16o2hp2</td>\n",
       "    </tr>\n",
       "    <tr>\n",
       "      <th>2807</th>\n",
       "      <td>3xil3d_vinyl</td>\n",
       "      <td>5</td>\n",
       "      <td>The flowchart is saying not to skip to deep le...</td>\n",
       "      <td>16nzapo</td>\n",
       "    </tr>\n",
       "    <tr>\n",
       "      <th>2815</th>\n",
       "      <td>3xil3d_vinyl</td>\n",
       "      <td>2</td>\n",
       "      <td>I am currently learning Dagster. You can organ...</td>\n",
       "      <td>16nvtiz</td>\n",
       "    </tr>\n",
       "    <tr>\n",
       "      <th>2914</th>\n",
       "      <td>3xil3d_vinyl</td>\n",
       "      <td>1</td>\n",
       "      <td>OTHER could mean a group of countries not ente...</td>\n",
       "      <td>16nm42h</td>\n",
       "    </tr>\n",
       "    <tr>\n",
       "      <th>3012</th>\n",
       "      <td>3xil3d_vinyl</td>\n",
       "      <td>1</td>\n",
       "      <td>I use template files from courses I took to bu...</td>\n",
       "      <td>16n85u9</td>\n",
       "    </tr>\n",
       "    <tr>\n",
       "      <th>3021</th>\n",
       "      <td>3xil3d_vinyl</td>\n",
       "      <td>1</td>\n",
       "      <td>I searched on [Perplexity.ai](https://Perplexi...</td>\n",
       "      <td>16n535q</td>\n",
       "    </tr>\n",
       "    <tr>\n",
       "      <th>3032</th>\n",
       "      <td>3xil3d_vinyl</td>\n",
       "      <td>6</td>\n",
       "      <td>Find a new job</td>\n",
       "      <td>16n4y34</td>\n",
       "    </tr>\n",
       "    <tr>\n",
       "      <th>3055</th>\n",
       "      <td>3xil3d_vinyl</td>\n",
       "      <td>12</td>\n",
       "      <td>Take the job as you need income but continue t...</td>\n",
       "      <td>16mwmnq</td>\n",
       "    </tr>\n",
       "    <tr>\n",
       "      <th>3062</th>\n",
       "      <td>3xil3d_vinyl</td>\n",
       "      <td>2</td>\n",
       "      <td>I actually built a Dash app using Plotly to co...</td>\n",
       "      <td>16mwb42</td>\n",
       "    </tr>\n",
       "    <tr>\n",
       "      <th>3112</th>\n",
       "      <td>3xil3d_vinyl</td>\n",
       "      <td>4</td>\n",
       "      <td>FuzzyWuzzy is only meant to link records toget...</td>\n",
       "      <td>16mu2sb</td>\n",
       "    </tr>\n",
       "    <tr>\n",
       "      <th>3122</th>\n",
       "      <td>3xil3d_vinyl</td>\n",
       "      <td>1</td>\n",
       "      <td>AWS, Azure, Google Cloud.</td>\n",
       "      <td>16mt9yr</td>\n",
       "    </tr>\n",
       "    <tr>\n",
       "      <th>3130</th>\n",
       "      <td>3xil3d_vinyl</td>\n",
       "      <td>1</td>\n",
       "      <td>I entered your post on Perplexity.ai and it su...</td>\n",
       "      <td>16mpjpk</td>\n",
       "    </tr>\n",
       "    <tr>\n",
       "      <th>3137</th>\n",
       "      <td>3xil3d_vinyl</td>\n",
       "      <td>-6</td>\n",
       "      <td>You should also consider getting a degree in t...</td>\n",
       "      <td>16mp9ch</td>\n",
       "    </tr>\n",
       "    <tr>\n",
       "      <th>3182</th>\n",
       "      <td>3xil3d_vinyl</td>\n",
       "      <td>2</td>\n",
       "      <td>Last time I used SAS was 7 years ago. I learne...</td>\n",
       "      <td>16mnewz</td>\n",
       "    </tr>\n",
       "    <tr>\n",
       "      <th>3212</th>\n",
       "      <td>3xil3d_vinyl</td>\n",
       "      <td>8</td>\n",
       "      <td>Get your resume reviewed here or elsewhere. Re...</td>\n",
       "      <td>16mgpi6</td>\n",
       "    </tr>\n",
       "    <tr>\n",
       "      <th>3259</th>\n",
       "      <td>3xil3d_vinyl</td>\n",
       "      <td>30</td>\n",
       "      <td>You are getting paid to deliver a product, the...</td>\n",
       "      <td>16m4vxt</td>\n",
       "    </tr>\n",
       "    <tr>\n",
       "      <th>3281</th>\n",
       "      <td>3xil3d_vinyl</td>\n",
       "      <td>1</td>\n",
       "      <td>Yes as long as you meet the minimum requiremen...</td>\n",
       "      <td>16m399w</td>\n",
       "    </tr>\n",
       "    <tr>\n",
       "      <th>3286</th>\n",
       "      <td>3xil3d_vinyl</td>\n",
       "      <td>3</td>\n",
       "      <td>Even though there is a tradeoff in pay, you ar...</td>\n",
       "      <td>16m1m84</td>\n",
       "    </tr>\n",
       "    <tr>\n",
       "      <th>3290</th>\n",
       "      <td>3xil3d_vinyl</td>\n",
       "      <td>14</td>\n",
       "      <td>In Python, I use pandas-profiling to get a qui...</td>\n",
       "      <td>16m0x2v</td>\n",
       "    </tr>\n",
       "    <tr>\n",
       "      <th>3303</th>\n",
       "      <td>3xil3d_vinyl</td>\n",
       "      <td>1</td>\n",
       "      <td>Move to a quieter room and use a headset with ...</td>\n",
       "      <td>16lxpvv</td>\n",
       "    </tr>\n",
       "    <tr>\n",
       "      <th>3319</th>\n",
       "      <td>3xil3d_vinyl</td>\n",
       "      <td>3</td>\n",
       "      <td>I have a BS in Economics and Statistics from a...</td>\n",
       "      <td>16lulvp</td>\n",
       "    </tr>\n",
       "    <tr>\n",
       "      <th>3503</th>\n",
       "      <td>3xil3d_vinyl</td>\n",
       "      <td>22</td>\n",
       "      <td>I have over five years of experience in unders...</td>\n",
       "      <td>16l99c4</td>\n",
       "    </tr>\n",
       "    <tr>\n",
       "      <th>3588</th>\n",
       "      <td>3xil3d_vinyl</td>\n",
       "      <td>62</td>\n",
       "      <td>Very hard to say. I was using R for five years...</td>\n",
       "      <td>16krpwy</td>\n",
       "    </tr>\n",
       "    <tr>\n",
       "      <th>3660</th>\n",
       "      <td>3xil3d_vinyl</td>\n",
       "      <td>1</td>\n",
       "      <td>Watch the movie Minority Report.</td>\n",
       "      <td>16kcf8t</td>\n",
       "    </tr>\n",
       "    <tr>\n",
       "      <th>3810</th>\n",
       "      <td>3xil3d_vinyl</td>\n",
       "      <td>2</td>\n",
       "      <td>What other skills does this role require? If y...</td>\n",
       "      <td>16jnyj8</td>\n",
       "    </tr>\n",
       "    <tr>\n",
       "      <th>3813</th>\n",
       "      <td>3xil3d_vinyl</td>\n",
       "      <td>13</td>\n",
       "      <td>Both of my former managers held PhDs in Econom...</td>\n",
       "      <td>16jnsl8</td>\n",
       "    </tr>\n",
       "    <tr>\n",
       "      <th>3822</th>\n",
       "      <td>3xil3d_vinyl</td>\n",
       "      <td>5</td>\n",
       "      <td>Have you done basic EDA on this like a correla...</td>\n",
       "      <td>16jn9f8</td>\n",
       "    </tr>\n",
       "    <tr>\n",
       "      <th>3824</th>\n",
       "      <td>3xil3d_vinyl</td>\n",
       "      <td>7</td>\n",
       "      <td>&gt;mainly modular and functional code in .py scr...</td>\n",
       "      <td>16jkys1</td>\n",
       "    </tr>\n",
       "    <tr>\n",
       "      <th>3870</th>\n",
       "      <td>3xil3d_vinyl</td>\n",
       "      <td>1</td>\n",
       "      <td>I typically use a linear regression model to f...</td>\n",
       "      <td>16j92f1</td>\n",
       "    </tr>\n",
       "    <tr>\n",
       "      <th>3985</th>\n",
       "      <td>3xil3d_vinyl</td>\n",
       "      <td>2</td>\n",
       "      <td>Perplexity said the book is called 'The Search...</td>\n",
       "      <td>16j25t4</td>\n",
       "    </tr>\n",
       "    <tr>\n",
       "      <th>4019</th>\n",
       "      <td>3xil3d_vinyl</td>\n",
       "      <td>30</td>\n",
       "      <td>I actually took several Coursera and Udemy cou...</td>\n",
       "      <td>16irjv3</td>\n",
       "    </tr>\n",
       "    <tr>\n",
       "      <th>4043</th>\n",
       "      <td>3xil3d_vinyl</td>\n",
       "      <td>2</td>\n",
       "      <td>Add part time ob  or leadership in student org...</td>\n",
       "      <td>16ipnew</td>\n",
       "    </tr>\n",
       "    <tr>\n",
       "      <th>4054</th>\n",
       "      <td>3xil3d_vinyl</td>\n",
       "      <td>1</td>\n",
       "      <td>I would frame the path in a different way. How...</td>\n",
       "      <td>16ily9q</td>\n",
       "    </tr>\n",
       "    <tr>\n",
       "      <th>4122</th>\n",
       "      <td>3xil3d_vinyl</td>\n",
       "      <td>20</td>\n",
       "      <td>You are an intern. Pick up a new skill and lea...</td>\n",
       "      <td>16id1ir</td>\n",
       "    </tr>\n",
       "    <tr>\n",
       "      <th>4303</th>\n",
       "      <td>3xil3d_vinyl</td>\n",
       "      <td>3</td>\n",
       "      <td>I started using Poetry and it made managing pa...</td>\n",
       "      <td>16hwuv1</td>\n",
       "    </tr>\n",
       "    <tr>\n",
       "      <th>4781</th>\n",
       "      <td>3xil3d_vinyl</td>\n",
       "      <td>44</td>\n",
       "      <td>&gt;Before you start work, you will receive a pay...</td>\n",
       "      <td>16g7quc</td>\n",
       "    </tr>\n",
       "    <tr>\n",
       "      <th>4813</th>\n",
       "      <td>3xil3d_vinyl</td>\n",
       "      <td>3</td>\n",
       "      <td>Are you asking about a front end tool for user...</td>\n",
       "      <td>16g400d</td>\n",
       "    </tr>\n",
       "    <tr>\n",
       "      <th>4815</th>\n",
       "      <td>3xil3d_vinyl</td>\n",
       "      <td>15</td>\n",
       "      <td>Department got more budget to hire for data sc...</td>\n",
       "      <td>16g3lot</td>\n",
       "    </tr>\n",
       "    <tr>\n",
       "      <th>4895</th>\n",
       "      <td>3xil3d_vinyl</td>\n",
       "      <td>4</td>\n",
       "      <td>Can you convert Alteryx workflows to Python/SQ...</td>\n",
       "      <td>16ftabn</td>\n",
       "    </tr>\n",
       "    <tr>\n",
       "      <th>5163</th>\n",
       "      <td>3xil3d_vinyl</td>\n",
       "      <td>1</td>\n",
       "      <td>Start now. Colleges host Fall job fairs and co...</td>\n",
       "      <td>16ebwul</td>\n",
       "    </tr>\n",
       "  </tbody>\n",
       "</table>\n",
       "</div>"
      ],
      "text/plain": [
       "            author  score                                               text  \\\n",
       "742   3xil3d_vinyl      6  I have a BS in Statistics and Economics.\\n\\nI ...   \n",
       "1347  3xil3d_vinyl      3  Most people start out in Business Analytics be...   \n",
       "1833  3xil3d_vinyl     20  Yes, but get the degree from a top ranked scho...   \n",
       "1931  3xil3d_vinyl      3  Your business should have a definition of marg...   \n",
       "1953  3xil3d_vinyl      1  Can you upload those CSVs into a cloud warehou...   \n",
       "1986  3xil3d_vinyl      5  I have done recruiting at career fairs before....   \n",
       "2201  3xil3d_vinyl     17  1. Practice behavioral questions using the STA...   \n",
       "2210  3xil3d_vinyl     10  There needs to be more moderators for this sub...   \n",
       "2231  3xil3d_vinyl     18  Just take the job and live with roommates. Liv...   \n",
       "2283  3xil3d_vinyl      5  I was told to learn a new tool and I asked que...   \n",
       "2289  3xil3d_vinyl      3                        Attend Data Science meetups   \n",
       "2400  3xil3d_vinyl      5                                               Why?   \n",
       "2445  3xil3d_vinyl      2  When I was in college, I learned SAS from the ...   \n",
       "2447  3xil3d_vinyl      3              Very common to weed out applications.   \n",
       "2448  3xil3d_vinyl      1  You can learn about dbt. It is using SQL and y...   \n",
       "2508  3xil3d_vinyl      2                             Post this on r/resumes   \n",
       "2509  3xil3d_vinyl     29  I use SQL all the time at my job and so do oth...   \n",
       "2575  3xil3d_vinyl      2  This can also be using HR data at any company....   \n",
       "2655  3xil3d_vinyl      4  I use [Perplexity.ai](https://Perplexity.ai) t...   \n",
       "2801  3xil3d_vinyl      1                                             Kaggle   \n",
       "2805  3xil3d_vinyl      1  Did you google?\\n\\nhttps://nida.nih.gov/resear...   \n",
       "2807  3xil3d_vinyl      5  The flowchart is saying not to skip to deep le...   \n",
       "2815  3xil3d_vinyl      2  I am currently learning Dagster. You can organ...   \n",
       "2914  3xil3d_vinyl      1  OTHER could mean a group of countries not ente...   \n",
       "3012  3xil3d_vinyl      1  I use template files from courses I took to bu...   \n",
       "3021  3xil3d_vinyl      1  I searched on [Perplexity.ai](https://Perplexi...   \n",
       "3032  3xil3d_vinyl      6                                     Find a new job   \n",
       "3055  3xil3d_vinyl     12  Take the job as you need income but continue t...   \n",
       "3062  3xil3d_vinyl      2  I actually built a Dash app using Plotly to co...   \n",
       "3112  3xil3d_vinyl      4  FuzzyWuzzy is only meant to link records toget...   \n",
       "3122  3xil3d_vinyl      1                          AWS, Azure, Google Cloud.   \n",
       "3130  3xil3d_vinyl      1  I entered your post on Perplexity.ai and it su...   \n",
       "3137  3xil3d_vinyl     -6  You should also consider getting a degree in t...   \n",
       "3182  3xil3d_vinyl      2  Last time I used SAS was 7 years ago. I learne...   \n",
       "3212  3xil3d_vinyl      8  Get your resume reviewed here or elsewhere. Re...   \n",
       "3259  3xil3d_vinyl     30  You are getting paid to deliver a product, the...   \n",
       "3281  3xil3d_vinyl      1  Yes as long as you meet the minimum requiremen...   \n",
       "3286  3xil3d_vinyl      3  Even though there is a tradeoff in pay, you ar...   \n",
       "3290  3xil3d_vinyl     14  In Python, I use pandas-profiling to get a qui...   \n",
       "3303  3xil3d_vinyl      1  Move to a quieter room and use a headset with ...   \n",
       "3319  3xil3d_vinyl      3  I have a BS in Economics and Statistics from a...   \n",
       "3503  3xil3d_vinyl     22  I have over five years of experience in unders...   \n",
       "3588  3xil3d_vinyl     62  Very hard to say. I was using R for five years...   \n",
       "3660  3xil3d_vinyl      1                   Watch the movie Minority Report.   \n",
       "3810  3xil3d_vinyl      2  What other skills does this role require? If y...   \n",
       "3813  3xil3d_vinyl     13  Both of my former managers held PhDs in Econom...   \n",
       "3822  3xil3d_vinyl      5  Have you done basic EDA on this like a correla...   \n",
       "3824  3xil3d_vinyl      7  >mainly modular and functional code in .py scr...   \n",
       "3870  3xil3d_vinyl      1  I typically use a linear regression model to f...   \n",
       "3985  3xil3d_vinyl      2  Perplexity said the book is called 'The Search...   \n",
       "4019  3xil3d_vinyl     30  I actually took several Coursera and Udemy cou...   \n",
       "4043  3xil3d_vinyl      2  Add part time ob  or leadership in student org...   \n",
       "4054  3xil3d_vinyl      1  I would frame the path in a different way. How...   \n",
       "4122  3xil3d_vinyl     20  You are an intern. Pick up a new skill and lea...   \n",
       "4303  3xil3d_vinyl      3  I started using Poetry and it made managing pa...   \n",
       "4781  3xil3d_vinyl     44  >Before you start work, you will receive a pay...   \n",
       "4813  3xil3d_vinyl      3  Are you asking about a front end tool for user...   \n",
       "4815  3xil3d_vinyl     15  Department got more budget to hire for data sc...   \n",
       "4895  3xil3d_vinyl      4  Can you convert Alteryx workflows to Python/SQ...   \n",
       "5163  3xil3d_vinyl      1  Start now. Colleges host Fall job fairs and co...   \n",
       "\n",
       "      post_id  \n",
       "742   16x200r  \n",
       "1347  16ucjce  \n",
       "1833  16s2ex1  \n",
       "1931  16rt4o4  \n",
       "1953  16rqnla  \n",
       "1986  16rjh59  \n",
       "2201  16qd0ij  \n",
       "2210  16qc882  \n",
       "2231  16qaxeq  \n",
       "2283  16qap3h  \n",
       "2289  16q9k4q  \n",
       "2400  16pnmno  \n",
       "2445  16pkjgv  \n",
       "2447  16pfsg2  \n",
       "2448  16pecx6  \n",
       "2508  16p9fy0  \n",
       "2509  16p88ew  \n",
       "2575  16ov424  \n",
       "2655  16orquj  \n",
       "2801  16o53uu  \n",
       "2805  16o2hp2  \n",
       "2807  16nzapo  \n",
       "2815  16nvtiz  \n",
       "2914  16nm42h  \n",
       "3012  16n85u9  \n",
       "3021  16n535q  \n",
       "3032  16n4y34  \n",
       "3055  16mwmnq  \n",
       "3062  16mwb42  \n",
       "3112  16mu2sb  \n",
       "3122  16mt9yr  \n",
       "3130  16mpjpk  \n",
       "3137  16mp9ch  \n",
       "3182  16mnewz  \n",
       "3212  16mgpi6  \n",
       "3259  16m4vxt  \n",
       "3281  16m399w  \n",
       "3286  16m1m84  \n",
       "3290  16m0x2v  \n",
       "3303  16lxpvv  \n",
       "3319  16lulvp  \n",
       "3503  16l99c4  \n",
       "3588  16krpwy  \n",
       "3660  16kcf8t  \n",
       "3810  16jnyj8  \n",
       "3813  16jnsl8  \n",
       "3822  16jn9f8  \n",
       "3824  16jkys1  \n",
       "3870  16j92f1  \n",
       "3985  16j25t4  \n",
       "4019  16irjv3  \n",
       "4043  16ipnew  \n",
       "4054  16ily9q  \n",
       "4122  16id1ir  \n",
       "4303  16hwuv1  \n",
       "4781  16g7quc  \n",
       "4813  16g400d  \n",
       "4815  16g3lot  \n",
       "4895  16ftabn  \n",
       "5163  16ebwul  "
      ]
     },
     "execution_count": 29,
     "metadata": {},
     "output_type": "execute_result"
    }
   ],
   "source": [
    "# Top commenter\n",
    "comment_df[comment_df['author'] == '3xil3d_vinyl']"
   ]
  },
  {
   "cell_type": "markdown",
   "id": "91144393",
   "metadata": {},
   "source": [
    "3xil3d_vinyl is the top commenter and can also see the score as 60 so looks some controversial discussion is in progress."
   ]
  },
  {
   "cell_type": "markdown",
   "id": "527fe2ec",
   "metadata": {},
   "source": [
    "# n-gram count - NLTK package"
   ]
  },
  {
   "cell_type": "code",
   "execution_count": 39,
   "id": "93e95ff1",
   "metadata": {},
   "outputs": [
    {
     "name": "stdout",
     "output_type": "stream",
     "text": [
      "Retrieving notices: ...working... DEBUG:urllib3.connectionpool:Starting new HTTPS connection (1): conda.anaconda.org:443\n",
      "DEBUG:urllib3.connectionpool:Starting new HTTPS connection (1): repo.anaconda.com:443\n",
      "DEBUG:urllib3.connectionpool:Starting new HTTPS connection (1): repo.anaconda.com:443\n",
      "DEBUG:urllib3.connectionpool:https://repo.anaconda.com:443 \"GET /pkgs/r/notices.json HTTP/1.1\" 404 None\n",
      "DEBUG:urllib3.connectionpool:https://repo.anaconda.com:443 \"GET /pkgs/main/notices.json HTTP/1.1\" 404 None\n",
      "DEBUG:urllib3.connectionpool:https://conda.anaconda.org:443 \"GET /conda-forge/notices.json HTTP/1.1\" 404 None\n",
      "done\n",
      "Collecting package metadata (current_repodata.json): / DEBUG:urllib3.connectionpool:Starting new HTTPS connection (1): repo.anaconda.com:443\n",
      "DEBUG:urllib3.connectionpool:Starting new HTTPS connection (1): repo.anaconda.com:443\n",
      "DEBUG:urllib3.connectionpool:Starting new HTTPS connection (1): repo.anaconda.com:443\n",
      "DEBUG:urllib3.connectionpool:Starting new HTTPS connection (1): repo.anaconda.com:443\n",
      "DEBUG:urllib3.connectionpool:Starting new HTTPS connection (1): conda.anaconda.org:443\n",
      "DEBUG:urllib3.connectionpool:Starting new HTTPS connection (1): conda.anaconda.org:443\n",
      "- DEBUG:urllib3.connectionpool:https://repo.anaconda.com:443 \"GET /pkgs/r/noarch/current_repodata.json HTTP/1.1\" 304 0\n",
      "DEBUG:urllib3.connectionpool:https://repo.anaconda.com:443 \"GET /pkgs/main/noarch/current_repodata.json HTTP/1.1\" 304 0\n",
      "DEBUG:urllib3.connectionpool:https://repo.anaconda.com:443 \"GET /pkgs/r/osx-arm64/current_repodata.json HTTP/1.1\" 304 0\n",
      "DEBUG:urllib3.connectionpool:https://repo.anaconda.com:443 \"GET /pkgs/main/osx-arm64/current_repodata.json HTTP/1.1\" 200 None\n",
      "\\ DEBUG:urllib3.connectionpool:https://conda.anaconda.org:443 \"GET /conda-forge/osx-arm64/current_repodata.json HTTP/1.1\" 200 None\n",
      "DEBUG:urllib3.connectionpool:https://conda.anaconda.org:443 \"GET /conda-forge/noarch/current_repodata.json HTTP/1.1\" 200 None\n",
      "done\n",
      "Solving environment: done\n",
      "\n",
      "\n",
      "==> WARNING: A newer version of conda exists. <==\n",
      "  current version: 23.7.4\n",
      "  latest version: 23.9.0\n",
      "\n",
      "Please update conda by running\n",
      "\n",
      "    $ conda update -n base -c defaults conda\n",
      "\n",
      "Or to minimize the number of packages updated during conda update use\n",
      "\n",
      "     conda install conda=23.9.0\n",
      "\n",
      "\n",
      "\n",
      "# All requested packages already installed.\n",
      "\n"
     ]
    }
   ],
   "source": [
    "!conda install -c conda-forge nltk -y"
   ]
  },
  {
   "cell_type": "code",
   "execution_count": 40,
   "id": "9d029b58",
   "metadata": {},
   "outputs": [
    {
     "data": {
      "text/plain": [
       "[('to', 227),\n",
       " ('a', 202),\n",
       " ('in', 178),\n",
       " ('Data', 168),\n",
       " ('for', 163),\n",
       " ('data', 155),\n",
       " ('the', 128),\n",
       " ('of', 107),\n",
       " ('and', 105),\n",
       " ('you', 99),\n",
       " ('I', 93),\n",
       " ('is', 84),\n",
       " ('What', 82),\n",
       " ('How', 81),\n",
       " ('science', 76),\n",
       " ('with', 76),\n",
       " ('do', 70),\n",
       " ('Science', 62),\n",
       " ('on', 62),\n",
       " ('or', 47)]"
      ]
     },
     "execution_count": 40,
     "metadata": {},
     "output_type": "execute_result"
    }
   ],
   "source": [
    "import nltk\n",
    "\n",
    "fd = nltk.FreqDist(' '.join(ds_df['title']).split())\n",
    "\n",
    "fd.most_common(20)"
   ]
  },
  {
   "cell_type": "code",
   "execution_count": 41,
   "id": "b1952343",
   "metadata": {},
   "outputs": [
    {
     "data": {
      "image/png": "[encoded data removed]",
      "text/plain": [
       "<Figure size 640x480 with 1 Axes>"
      ]
     },
     "metadata": {},
     "output_type": "display_data"
    },
    {
     "data": {
      "text/plain": [
       "<Axes: xlabel='Samples', ylabel='Counts'>"
      ]
     },
     "execution_count": 41,
     "metadata": {},
     "output_type": "execute_result"
    }
   ],
   "source": [
    "fd.plot(20)"
   ]
  },
  {
   "cell_type": "code",
   "execution_count": 43,
   "id": "c21bde83",
   "metadata": {},
   "outputs": [
    {
     "data": {
      "text/plain": [
       "['i',\n",
       " 'me',\n",
       " 'my',\n",
       " 'myself',\n",
       " 'we',\n",
       " 'our',\n",
       " 'ours',\n",
       " 'ourselves',\n",
       " 'you',\n",
       " \"you're\",\n",
       " \"you've\",\n",
       " \"you'll\",\n",
       " \"you'd\",\n",
       " 'your',\n",
       " 'yours',\n",
       " 'yourself',\n",
       " 'yourselves',\n",
       " 'he',\n",
       " 'him',\n",
       " 'his',\n",
       " 'himself',\n",
       " 'she',\n",
       " \"she's\",\n",
       " 'her',\n",
       " 'hers',\n",
       " 'herself',\n",
       " 'it',\n",
       " \"it's\",\n",
       " 'its',\n",
       " 'itself',\n",
       " 'they',\n",
       " 'them',\n",
       " 'their',\n",
       " 'theirs',\n",
       " 'themselves',\n",
       " 'what',\n",
       " 'which',\n",
       " 'who',\n",
       " 'whom',\n",
       " 'this',\n",
       " 'that',\n",
       " \"that'll\",\n",
       " 'these',\n",
       " 'those',\n",
       " 'am',\n",
       " 'is',\n",
       " 'are',\n",
       " 'was',\n",
       " 'were',\n",
       " 'be',\n",
       " 'been',\n",
       " 'being',\n",
       " 'have',\n",
       " 'has',\n",
       " 'had',\n",
       " 'having',\n",
       " 'do',\n",
       " 'does',\n",
       " 'did',\n",
       " 'doing',\n",
       " 'a',\n",
       " 'an',\n",
       " 'the',\n",
       " 'and',\n",
       " 'but',\n",
       " 'if',\n",
       " 'or',\n",
       " 'because',\n",
       " 'as',\n",
       " 'until',\n",
       " 'while',\n",
       " 'of',\n",
       " 'at',\n",
       " 'by',\n",
       " 'for',\n",
       " 'with',\n",
       " 'about',\n",
       " 'against',\n",
       " 'between',\n",
       " 'into',\n",
       " 'through',\n",
       " 'during',\n",
       " 'before',\n",
       " 'after',\n",
       " 'above',\n",
       " 'below',\n",
       " 'to',\n",
       " 'from',\n",
       " 'up',\n",
       " 'down',\n",
       " 'in',\n",
       " 'out',\n",
       " 'on',\n",
       " 'off',\n",
       " 'over',\n",
       " 'under',\n",
       " 'again',\n",
       " 'further',\n",
       " 'then',\n",
       " 'once',\n",
       " 'here',\n",
       " 'there',\n",
       " 'when',\n",
       " 'where',\n",
       " 'why',\n",
       " 'how',\n",
       " 'all',\n",
       " 'any',\n",
       " 'both',\n",
       " 'each',\n",
       " 'few',\n",
       " 'more',\n",
       " 'most',\n",
       " 'other',\n",
       " 'some',\n",
       " 'such',\n",
       " 'no',\n",
       " 'nor',\n",
       " 'not',\n",
       " 'only',\n",
       " 'own',\n",
       " 'same',\n",
       " 'so',\n",
       " 'than',\n",
       " 'too',\n",
       " 'very',\n",
       " 's',\n",
       " 't',\n",
       " 'can',\n",
       " 'will',\n",
       " 'just',\n",
       " 'don',\n",
       " \"don't\",\n",
       " 'should',\n",
       " \"should've\",\n",
       " 'now',\n",
       " 'd',\n",
       " 'll',\n",
       " 'm',\n",
       " 'o',\n",
       " 're',\n",
       " 've',\n",
       " 'y',\n",
       " 'ain',\n",
       " 'aren',\n",
       " \"aren't\",\n",
       " 'couldn',\n",
       " \"couldn't\",\n",
       " 'didn',\n",
       " \"didn't\",\n",
       " 'doesn',\n",
       " \"doesn't\",\n",
       " 'hadn',\n",
       " \"hadn't\",\n",
       " 'hasn',\n",
       " \"hasn't\",\n",
       " 'haven',\n",
       " \"haven't\",\n",
       " 'isn',\n",
       " \"isn't\",\n",
       " 'ma',\n",
       " 'mightn',\n",
       " \"mightn't\",\n",
       " 'mustn',\n",
       " \"mustn't\",\n",
       " 'needn',\n",
       " \"needn't\",\n",
       " 'shan',\n",
       " \"shan't\",\n",
       " 'shouldn',\n",
       " \"shouldn't\",\n",
       " 'wasn',\n",
       " \"wasn't\",\n",
       " 'weren',\n",
       " \"weren't\",\n",
       " 'won',\n",
       " \"won't\",\n",
       " 'wouldn',\n",
       " \"wouldn't\"]"
      ]
     },
     "execution_count": 43,
     "metadata": {},
     "output_type": "execute_result"
    }
   ],
   "source": [
    "#from nltk.corpus import stopwords\n",
    "\n",
    "stops = stopwords.words('english')\n",
    "stops"
   ]
  },
  {
   "cell_type": "code",
   "execution_count": null,
   "id": "502c8103",
   "metadata": {},
   "outputs": [],
   "source": [
    "# converting to lower case"
   ]
  },
  {
   "cell_type": "code",
   "execution_count": 45,
   "id": "ebe781c5",
   "metadata": {},
   "outputs": [],
   "source": [
    "words = ' '.join(ds_df['title']).lower().split()"
   ]
  },
  {
   "cell_type": "code",
   "execution_count": 46,
   "id": "7531cf52",
   "metadata": {},
   "outputs": [],
   "source": [
    "cleaned_words = [w for w in words if w not in set(stops)]"
   ]
  },
  {
   "cell_type": "markdown",
   "id": "72893b14",
   "metadata": {},
   "source": [
    "# Plotting without stop words"
   ]
  },
  {
   "cell_type": "code",
   "execution_count": 47,
   "id": "4f9e3c4a",
   "metadata": {},
   "outputs": [],
   "source": [
    "cleaned_words = [w for w in words if w not in set(stops)]"
   ]
  },
  {
   "cell_type": "code",
   "execution_count": 48,
   "id": "2c714e53",
   "metadata": {},
   "outputs": [
    {
     "data": {
      "text/plain": [
       "[('data', 323),\n",
       " ('science', 138),\n",
       " ('job', 46),\n",
       " ('-', 39),\n",
       " ('learning', 29),\n",
       " ('use', 29),\n",
       " ('model', 29),\n",
       " ('time', 29),\n",
       " ('ds', 27),\n",
       " ('need', 24),\n",
       " ('help', 24),\n",
       " ('python', 24),\n",
       " ('scientist', 22),\n",
       " ('ml', 22),\n",
       " ('anyone', 20),\n",
       " ('?', 19),\n",
       " ('work', 19),\n",
       " ('questions', 18),\n",
       " ('best', 18),\n",
       " ('get', 18)]"
      ]
     },
     "execution_count": 48,
     "metadata": {},
     "output_type": "execute_result"
    }
   ],
   "source": [
    "cleaned_fd = nltk.FreqDist(cleaned_words)\n",
    "cleaned_fd.most_common(20)"
   ]
  },
  {
   "cell_type": "markdown",
   "id": "7ac361bc",
   "metadata": {},
   "source": [
    "# Adding few common words and punctuations to stop words \n",
    "This plot should make more sense as the result hav emore technical terms."
   ]
  },
  {
   "cell_type": "code",
   "execution_count": 59,
   "id": "f23982ca",
   "metadata": {},
   "outputs": [],
   "source": [
    "stops = set(stops) | set(['use', 'anyone','help','get','advice','best','using','need','looking','?','-','_'])"
   ]
  },
  {
   "cell_type": "code",
   "execution_count": 60,
   "id": "63b135fa",
   "metadata": {},
   "outputs": [],
   "source": [
    "cleaned_words = [w for w in words if w not in set(stops)]"
   ]
  },
  {
   "cell_type": "code",
   "execution_count": 61,
   "id": "b63df92c",
   "metadata": {},
   "outputs": [
    {
     "data": {
      "text/plain": [
       "[('data', 323),\n",
       " ('science', 138),\n",
       " ('job', 46),\n",
       " ('learning', 29),\n",
       " ('model', 29),\n",
       " ('time', 29),\n",
       " ('ds', 27),\n",
       " ('python', 24),\n",
       " ('scientist', 22),\n",
       " ('ml', 22),\n",
       " ('work', 19),\n",
       " ('questions', 18),\n",
       " ('analyst', 17),\n",
       " ('analysis', 17),\n",
       " ('series', 17),\n",
       " ('career', 17),\n",
       " ('project', 16),\n",
       " ('ai', 16),\n",
       " ('good', 15),\n",
       " ('analytics', 15)]"
      ]
     },
     "execution_count": 61,
     "metadata": {},
     "output_type": "execute_result"
    }
   ],
   "source": [
    "cleaned_fd = nltk.FreqDist(cleaned_words)\n",
    "cleaned_fd.most_common(20)"
   ]
  },
  {
   "cell_type": "code",
   "execution_count": 62,
   "id": "bca63c9d",
   "metadata": {},
   "outputs": [
    {
     "data": {
      "image/png": "[encoded data removed]",
      "text/plain": [
       "<Figure size 640x480 with 1 Axes>"
      ]
     },
     "metadata": {},
     "output_type": "display_data"
    },
    {
     "data": {
      "text/plain": [
       "<Axes: xlabel='Samples', ylabel='Counts'>"
      ]
     },
     "execution_count": 62,
     "metadata": {},
     "output_type": "execute_result"
    }
   ],
   "source": [
    "cleaned_fd.plot(20)"
   ]
  },
  {
   "cell_type": "markdown",
   "id": "ec5fce48",
   "metadata": {},
   "source": [
    "# Analysis"
   ]
  },
  {
   "cell_type": "markdown",
   "id": "ed918e12",
   "metadata": {},
   "source": [
    "In this section we explored the queries and selected few columns like title and comments from the sqlite file.Also checked the way to extract more than 1000 posts at a time but the subreddit has only 906 posts so results did not vary but we got some recent posts.\n",
    "Further collected the comments for each post in comment_df and did some EDA on commensts data. Observation is 3xil3d_vinyl is the top commenter and can also see the score as 60 for few commensts so looks like some controversial discussion is in progress. Plotted a bar plot with author and score and a histogram for score frequency.Didn't try scatter plot as we had only one numeric data in comments dataframe.\n",
    "Also explored the n grams by installing NLTK package. Splitted the titles and removed all the whitespaces to get the most used words. Tried to clean the data by removing the stop words. first downloaded the default stop words and removed those and then added few common words as per data and some punctuations as well. Again created a plot using these most common words but now more technical terms are added to the graph."
   ]
  }
 ],
 "metadata": {
  "kernelspec": {
   "display_name": "Python 3 (ipykernel)",
   "language": "python",
   "name": "python3"
  },
  "language_info": {
   "codemirror_mode": {
    "name": "ipython",
    "version": 3
   },
   "file_extension": ".py",
   "mimetype": "text/x-python",
   "name": "python",
   "nbconvert_exporter": "python",
   "pygments_lexer": "ipython3",
   "version": "3.11.4"
  }
 },
 "nbformat": 4,
 "nbformat_minor": 5
}
